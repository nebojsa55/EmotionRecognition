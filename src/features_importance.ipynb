{
 "metadata": {
  "language_info": {
   "codemirror_mode": {
    "name": "ipython",
    "version": 3
   },
   "file_extension": ".py",
   "mimetype": "text/x-python",
   "name": "python",
   "nbconvert_exporter": "python",
   "pygments_lexer": "ipython3",
   "version": "3.8.2-final"
  },
  "orig_nbformat": 2,
  "kernelspec": {
   "name": "python38232bitb089610fbd4945eaba32066a24203d22",
   "display_name": "Python 3.8.2 32-bit",
   "language": "python"
  }
 },
 "nbformat": 4,
 "nbformat_minor": 2,
 "cells": [
  {
   "cell_type": "code",
   "execution_count": 1,
   "metadata": {},
   "outputs": [],
   "source": [
    "import pandas as pd\n",
    "import numpy as np\n",
    "import matplotlib.pyplot as plt\n",
    "import os"
   ]
  },
  {
   "cell_type": "code",
   "execution_count": 2,
   "metadata": {},
   "outputs": [],
   "source": [
    "from sklearn.feature_selection import mutual_info_classif"
   ]
  },
  {
   "cell_type": "code",
   "execution_count": 3,
   "metadata": {},
   "outputs": [],
   "source": [
    "data = pd.read_csv(\"za_klasifikaciju.csv\")"
   ]
  },
  {
   "cell_type": "code",
   "execution_count": 4,
   "metadata": {},
   "outputs": [],
   "source": [
    "del data['Participant_id']"
   ]
  },
  {
   "cell_type": "code",
   "execution_count": 5,
   "metadata": {},
   "outputs": [],
   "source": [
    "def read_feats(dir, n_patients):\n",
    "\n",
    "    for i in range(1, n_patients):\n",
    "        filename = \"s{:02d}_{}.csv\".format(i, (dir.split('_')[0]).lower())\n",
    "\n",
    "        features_i = pd.read_csv(os.path.join(dir, filename), index_col=0)\n",
    "\n",
    "        if i == 1:\n",
    "            features = features_i.copy()\n",
    "        else:\n",
    "            features = features.append(features_i, ignore_index=True)\n",
    "    \n",
    "    return features"
   ]
  },
  {
   "cell_type": "code",
   "execution_count": 6,
   "metadata": {},
   "outputs": [],
   "source": [
    "def get_mi(features, data, type_, feat_name):\n",
    "    \"\"\"\n",
    "    INPUT\n",
    "    ------\n",
    "    features -> all features for one modality and one participant\n",
    "    data -> classifiaction labels for all participants\n",
    "    type_ -> str in ['Valence', 'Arousal', 'Dominance', 'Liking']\n",
    "    feat_name -> name of modality\n",
    "\n",
    "    RETURNS\n",
    "    ------\n",
    "    dict of feature names and their mutual info scores\n",
    "    \"\"\"\n",
    "\n",
    "    #data_p = data.query(\"Participant_id == {}\".format(p_id)).copy()\n",
    "\n",
    "    if type_ == 'Valence':\n",
    "        y = data['Valence'].copy()\n",
    "    elif type_ == 'Arousal':\n",
    "        y = data['Arousal'].copy()\n",
    "    elif type_ == 'Dominance':\n",
    "        y = data['Dominance'].copy()\n",
    "    elif type_ == 'Liking':\n",
    "        y = data['Liking'].copy()\n",
    "\n",
    "    # Binary classification, 1-high, 0-low\n",
    "    y[y < 4.5] = 0\n",
    "    y[y >= 4.5] = 1\n",
    "\n",
    "    try:\n",
    "        m_i = mutual_info_classif(features, y)\n",
    "    except ValueError:\n",
    "        m_i = mutual_info_classif(features.fillna(0), y)\n",
    "\n",
    "    #labels = np.array(list(features))\n",
    "\n",
    "    #inds = np.argsort(m_i)\n",
    "    #m_i = m_i[inds]\n",
    "    #labels = labels[inds]\n",
    "\n",
    "    #return {'name': feat_name, 'labels': labels, 'm_info': m_i}\n",
    "    return m_i"
   ]
  },
  {
   "cell_type": "code",
   "execution_count": 7,
   "metadata": {},
   "outputs": [],
   "source": [
    "plt.style.use('fivethirtyeight')\n",
    "plt.rc('font', size=10)"
   ]
  },
  {
   "cell_type": "code",
   "execution_count": 8,
   "metadata": {},
   "outputs": [],
   "source": [
    "N_PATIENTS = 33"
   ]
  },
  {
   "source": [
    "# GSR"
   ],
   "cell_type": "markdown",
   "metadata": {}
  },
  {
   "cell_type": "code",
   "execution_count": 9,
   "metadata": {},
   "outputs": [],
   "source": [
    "GSR_DIR = 'gsr_features/'"
   ]
  },
  {
   "cell_type": "code",
   "execution_count": 10,
   "metadata": {},
   "outputs": [],
   "source": [
    "features = read_feats(GSR_DIR, N_PATIENTS)"
   ]
  },
  {
   "cell_type": "code",
   "execution_count": 11,
   "metadata": {},
   "outputs": [],
   "source": [
    "mi_gsr = []\n",
    "\n",
    "for t in ['Valence', 'Arousal', 'Dominance', 'Liking']:\n",
    "    mi_gsr += [get_mi(features, data, t, 'GSR')]"
   ]
  },
  {
   "cell_type": "code",
   "execution_count": 12,
   "metadata": {},
   "outputs": [],
   "source": [
    "f_names_gsr = ['GSR-'+x for x in list(features)]\n",
    "#f_names_gsr = ['GSR' for x in list(features)]"
   ]
  },
  {
   "source": [
    "# HRV"
   ],
   "cell_type": "markdown",
   "metadata": {}
  },
  {
   "cell_type": "code",
   "execution_count": 13,
   "metadata": {},
   "outputs": [],
   "source": [
    "HRV_DIR = 'hrv_features/'"
   ]
  },
  {
   "cell_type": "code",
   "execution_count": 14,
   "metadata": {},
   "outputs": [],
   "source": [
    "features = read_feats(HRV_DIR, N_PATIENTS)"
   ]
  },
  {
   "cell_type": "code",
   "execution_count": 15,
   "metadata": {},
   "outputs": [],
   "source": [
    "mi_hrv = []\n",
    "\n",
    "for t in ['Valence', 'Arousal', 'Dominance', 'Liking']:\n",
    "    mi_hrv += [get_mi(features, data, t, 'HRV')]\n",
    "        "
   ]
  },
  {
   "cell_type": "code",
   "execution_count": 16,
   "metadata": {},
   "outputs": [],
   "source": [
    "f_names_hrv = ['HRV-'+x for x in list(features)]\n",
    "#f_names_hrv = ['HRV' for x in list(features)]"
   ]
  },
  {
   "source": [
    "# RESP"
   ],
   "cell_type": "markdown",
   "metadata": {}
  },
  {
   "cell_type": "code",
   "execution_count": 17,
   "metadata": {},
   "outputs": [],
   "source": [
    "RESP_DIR = 'resp_features/'"
   ]
  },
  {
   "cell_type": "code",
   "execution_count": 18,
   "metadata": {},
   "outputs": [],
   "source": [
    "features = read_feats(RESP_DIR, N_PATIENTS)"
   ]
  },
  {
   "cell_type": "code",
   "execution_count": 19,
   "metadata": {},
   "outputs": [],
   "source": [
    "mi_resp = []\n",
    "\n",
    "for t in ['Valence', 'Arousal', 'Dominance', 'Liking']:\n",
    "    mi_resp += [get_mi(features, data, t, 'RESP')]"
   ]
  },
  {
   "cell_type": "code",
   "execution_count": 20,
   "metadata": {},
   "outputs": [],
   "source": [
    "f_names_resp = ['RESP-'+x for x in list(features)]\n",
    "#f_names_resp = ['RESP' for x in list(features)]"
   ]
  },
  {
   "source": [
    "# TEMG"
   ],
   "cell_type": "markdown",
   "metadata": {}
  },
  {
   "cell_type": "code",
   "execution_count": 21,
   "metadata": {},
   "outputs": [],
   "source": [
    "TEMG_DIR = 'temg_features/'"
   ]
  },
  {
   "cell_type": "code",
   "execution_count": 22,
   "metadata": {},
   "outputs": [],
   "source": [
    "features = read_feats(TEMG_DIR, N_PATIENTS)"
   ]
  },
  {
   "cell_type": "code",
   "execution_count": 23,
   "metadata": {},
   "outputs": [],
   "source": [
    "mi_temg = []\n",
    "\n",
    "for t in ['Valence', 'Arousal', 'Dominance', 'Liking']:\n",
    "    mi_temg += [get_mi(features, data, t, 'TEMG')]"
   ]
  },
  {
   "cell_type": "code",
   "execution_count": 24,
   "metadata": {},
   "outputs": [],
   "source": [
    "f_names_temg = ['TEMG-'+x for x in list(features)]\n",
    "#f_names_temg = ['TEMG' for x in list(features)]"
   ]
  },
  {
   "source": [
    "# TEMP"
   ],
   "cell_type": "markdown",
   "metadata": {}
  },
  {
   "cell_type": "code",
   "execution_count": 25,
   "metadata": {},
   "outputs": [],
   "source": [
    "TEMP_DIR = 'temp_features/'"
   ]
  },
  {
   "cell_type": "code",
   "execution_count": 26,
   "metadata": {},
   "outputs": [],
   "source": [
    "features = read_feats(TEMP_DIR, N_PATIENTS)"
   ]
  },
  {
   "cell_type": "code",
   "execution_count": 27,
   "metadata": {},
   "outputs": [],
   "source": [
    "mi_temp = []\n",
    "\n",
    "for t in ['Valence', 'Arousal', 'Dominance', 'Liking']:\n",
    "    mi_temp += [get_mi(features, data, t, 'TEMP')]"
   ]
  },
  {
   "cell_type": "code",
   "execution_count": 28,
   "metadata": {},
   "outputs": [],
   "source": [
    "f_names_temp = ['TEMP-'+x for x in list(features)]\n",
    "#f_names_temp = ['TEMP' for x in list(features)]"
   ]
  },
  {
   "source": [
    "# ZEMG"
   ],
   "cell_type": "markdown",
   "metadata": {}
  },
  {
   "cell_type": "code",
   "execution_count": 29,
   "metadata": {},
   "outputs": [],
   "source": [
    "ZEMG_DIR = 'zemg_features/'"
   ]
  },
  {
   "cell_type": "code",
   "execution_count": 30,
   "metadata": {},
   "outputs": [],
   "source": [
    "features = read_feats(ZEMG_DIR, N_PATIENTS)"
   ]
  },
  {
   "cell_type": "code",
   "execution_count": 31,
   "metadata": {},
   "outputs": [],
   "source": [
    "mi_zemg = []\n",
    "\n",
    "for t in ['Valence', 'Arousal', 'Dominance', 'Liking']:\n",
    "    mi_zemg += [get_mi(features, data, t, 'ZEMG')]"
   ]
  },
  {
   "cell_type": "code",
   "execution_count": 32,
   "metadata": {},
   "outputs": [],
   "source": [
    "f_names_zemg = ['ZEMG-'+x for x in list(features)]\n",
    "#f_names_zemg = ['ZEMG' for x in list(features)]"
   ]
  },
  {
   "source": [
    "# EEG"
   ],
   "cell_type": "markdown",
   "metadata": {}
  },
  {
   "cell_type": "code",
   "execution_count": 33,
   "metadata": {},
   "outputs": [],
   "source": [
    "EEG_DIR = 'eeg_features/'\n",
    "electrodes = os.listdir(EEG_DIR)"
   ]
  },
  {
   "cell_type": "code",
   "execution_count": 34,
   "metadata": {},
   "outputs": [],
   "source": [
    "f_names_eeg = []"
   ]
  },
  {
   "cell_type": "code",
   "execution_count": 35,
   "metadata": {},
   "outputs": [],
   "source": [
    "mi_eeg = []\n",
    "\n",
    "for e in electrodes:\n",
    "\n",
    "    for i in range(1, 33):\n",
    "\n",
    "        filename = \"s{:02d}_eegfeatures.csv\".format(i)\n",
    "\n",
    "        features_i = pd.read_csv(os.path.join(EEG_DIR, e, filename), index_col=0)\n",
    "\n",
    "        if i == 1:\n",
    "            features = features_i.copy()\n",
    "        else:\n",
    "            features = features.append(features_i, ignore_index=True)\n",
    "    mi_e = []\n",
    "    for t in ['Valence', 'Arousal', 'Dominance', 'Liking']:\n",
    "        mi_e += [get_mi(features, data, t, e)]\n",
    "    \n",
    "    mi_eeg += [mi_e]\n",
    "\n",
    "    f_names_electrode = [e+'-'+x for x in list(features)]\n",
    "    #f_names_electrode = [e for x in list(features)]\n",
    "    f_names_eeg += f_names_electrode"
   ]
  },
  {
   "source": [
    "# Comparison"
   ],
   "cell_type": "markdown",
   "metadata": {}
  },
  {
   "cell_type": "code",
   "execution_count": 36,
   "metadata": {},
   "outputs": [],
   "source": [
    "f_names = f_names_gsr + f_names_resp + f_names_temg + f_names_temp + f_names_zemg + f_names_eeg"
   ]
  },
  {
   "cell_type": "code",
   "execution_count": 37,
   "metadata": {},
   "outputs": [],
   "source": [
    "mi = [mi_gsr, mi_resp, mi_temg, mi_temp, mi_zemg]\n",
    "\n",
    "mi += mi_eeg"
   ]
  },
  {
   "cell_type": "code",
   "execution_count": 38,
   "metadata": {},
   "outputs": [],
   "source": [
    "valence = []\n",
    "arousal = []\n",
    "dominance = []\n",
    "liking = []\n",
    "val_feats = []\n",
    "ar_feats = []\n",
    "dom_feats = []\n",
    "lik_feats = []\n",
    "\n",
    "for i in range(len(mi)):\n",
    "    \"\"\"\n",
    "    valence += [mi[i][0]['m_info'][-1]]\n",
    "    val_feats += [mi[i][0]['labels'][-1]]\n",
    "\n",
    "    arousal += [mi[i][1]['m_info'][-1]]\n",
    "    ar_feats += [mi[i][1]['labels'][-1]]\n",
    "\n",
    "    dominance += [mi[i][2]['m_info'][-1]]\n",
    "    dom_feats += [mi[i][2]['labels'][-1]]\n",
    "\n",
    "    liking += [mi[i][3]['m_info'][-1]]\n",
    "    lik_feats += [mi[i][3]['labels'][-1]]\n",
    "    \"\"\"\n",
    "\n",
    "    valence += list(mi[i][0])\n",
    "    #val_feats += list(mi[i][0]['labels'])\n",
    "\n",
    "    arousal += list(mi[i][1])\n",
    "    #ar_feats += list(mi[i][1]['labels'])\n",
    "\n",
    "    dominance += list(mi[i][2])\n",
    "    #dom_feats += list(mi[i][2]['labels'])\n",
    "\n",
    "    liking += list(mi[i][3])\n",
    "    #lik_feats += list(mi[i][3]['labels'])"
   ]
  },
  {
   "cell_type": "code",
   "execution_count": 39,
   "metadata": {},
   "outputs": [],
   "source": [
    "valence = np.array(valence)\n",
    "arousal = np.array(arousal)\n",
    "dominance = np.array(dominance)\n",
    "liking = np.array(liking)\n",
    "f_names = np.array(f_names)\n",
    "#val_feats = np.array(val_feats)\n",
    "#ar_feats = np.array(ar_feats)\n",
    "#dom_feats = np.array(dom_feats)\n",
    "#lik_feats = np.array(lik_feats)"
   ]
  },
  {
   "cell_type": "code",
   "execution_count": 40,
   "metadata": {},
   "outputs": [],
   "source": [
    "ind_v = np.argsort(valence)\n",
    "valence = valence[ind_v]\n",
    "names_v = f_names[ind_v]\n",
    "#val_feats = val_feats[ind_v]\n",
    "\n",
    "ind_a = np.argsort(arousal)\n",
    "arousal = arousal[ind_a]\n",
    "names_a = f_names[ind_a]\n",
    "#ar_feats = ar_feats[ind_a]\n",
    "\n",
    "ind_d = np.argsort(dominance)\n",
    "dominance = dominance[ind_d]\n",
    "names_d = f_names[ind_d]\n",
    "#dom_feats = dom_feats[ind_d]\n",
    "\n",
    "ind_l = np.argsort(liking)\n",
    "liking = liking[ind_l]\n",
    "names_l = f_names[ind_l]\n",
    "#lik_feats = lik_feats[ind_l]"
   ]
  },
  {
   "cell_type": "code",
   "execution_count": 41,
   "metadata": {},
   "outputs": [],
   "source": [
    "valence = valence[-100:]\n",
    "names_v = names_v[-100:]\n",
    "#val_feats = val_feats[-50:]\n",
    "\n",
    "arousal = arousal[-100:]\n",
    "names_a = names_a[-100:]\n",
    "#ar_feats = ar_feats[-50:]\n",
    "\n",
    "dominance = dominance[-100:]\n",
    "names_d = names_d[-100:]\n",
    "#dom_feats = dom_feats[-50:]\n",
    "\n",
    "liking = liking[-100:]\n",
    "names_l = names_l[-100:]\n",
    "#lik_feats = lik_feats[-50:]"
   ]
  },
  {
   "source": [
    "plt.figure(figsize=(12, 27))\n",
    "\n",
    "plt.subplot(2, 2, 1)\n",
    "plt.barh(names_v, valence, color='y')\n",
    "#for ii, nn in enumerate(val_feats):\n",
    "#    plt.text(s=nn, x=0, y=ii, color=\"k\", verticalalignment=\"center\", fontsize=10)\n",
    "plt.title('Valence')\n",
    "plt.xlabel('Mutual information')\n",
    "\n",
    "plt.subplot(2, 2, 2)\n",
    "plt.barh(names_a, arousal, color='y')\n",
    "#for ii, nn in enumerate(ar_feats):\n",
    "#    plt.text(s=nn, x=0, y=ii, color=\"k\", verticalalignment=\"center\", fontsize=10)\n",
    "plt.title('Arousal')\n",
    "plt.xlabel('Mutual information')\n",
    "\n",
    "plt.subplot(2, 2, 3)\n",
    "plt.barh(names_d, dominance, color='y')\n",
    "#for ii, nn in enumerate(dom_feats):\n",
    "#    plt.text(s=nn, x=0, y=ii, color=\"k\", verticalalignment=\"center\", fontsize=10)\n",
    "plt.title('Dominance')\n",
    "plt.xlabel('Mutual information')\n",
    "\n",
    "plt.subplot(2, 2, 4)\n",
    "plt.barh(names_l, liking, color='y')\n",
    "#for ii, nn in enumerate(lik_feats):\n",
    "#    plt.text(s=nn, x=0, y=ii, color=\"k\", verticalalignment=\"center\", fontsize=10)\n",
    "plt.title('Liking')\n",
    "plt.xlabel('Mutual information')\n",
    "\n",
    "plt.tight_layout()\n",
    "\n",
    "plt.show()"
   ],
   "cell_type": "markdown",
   "metadata": {}
  },
  {
   "source": [
    "## Saving best features"
   ],
   "cell_type": "markdown",
   "metadata": {}
  },
  {
   "cell_type": "code",
   "execution_count": 42,
   "metadata": {},
   "outputs": [],
   "source": [
    "valence_final = pd.DataFrame()\n",
    "arousal_final = pd.DataFrame()\n",
    "dominance_final = pd.DataFrame()\n",
    "liking_final = pd.DataFrame()"
   ]
  },
  {
   "cell_type": "code",
   "execution_count": 43,
   "metadata": {},
   "outputs": [],
   "source": [
    "def get_feats(type_, names):\n",
    "\n",
    "    feats = []\n",
    "    for f in names:\n",
    "        if f.split('-')[0] == type_:\n",
    "            feats += [f.split('-')[1]]\n",
    "\n",
    "    return feats"
   ]
  },
  {
   "source": [
    "### <i> GSR </i>"
   ],
   "cell_type": "markdown",
   "metadata": {}
  },
  {
   "cell_type": "code",
   "execution_count": 44,
   "metadata": {},
   "outputs": [],
   "source": [
    "# Valence\n",
    "gsr_feats_val = get_feats('GSR', names_v)\n",
    "\n",
    "# Arousal\n",
    "gsr_feats_ar = get_feats('GSR', names_a)\n",
    "\n",
    "# Dominance\n",
    "gsr_feats_dom = get_feats('GSR', names_d)\n",
    "\n",
    "# Liking\n",
    "gsr_feats_lik = get_feats('GSR', names_l)"
   ]
  },
  {
   "cell_type": "code",
   "execution_count": 45,
   "metadata": {},
   "outputs": [],
   "source": [
    "features = read_feats(GSR_DIR, N_PATIENTS)"
   ]
  },
  {
   "cell_type": "code",
   "execution_count": 46,
   "metadata": {},
   "outputs": [],
   "source": [
    "valence_final = pd.concat([valence_final, features[gsr_feats_val]], axis=1)\n",
    "arousal_final = pd.concat([arousal_final, features[gsr_feats_ar]], axis=1)\n",
    "dominance_final = pd.concat([dominance_final, features[gsr_feats_dom]], axis=1)\n",
    "liking_final = pd.concat([liking_final, features[gsr_feats_lik]], axis=1)"
   ]
  },
  {
   "source": [
    "### <i> HRV </i>"
   ],
   "cell_type": "markdown",
   "metadata": {}
  },
  {
   "cell_type": "code",
   "execution_count": 47,
   "metadata": {},
   "outputs": [],
   "source": [
    "# Valence\n",
    "hrv_feats_val = get_feats('HRV', names_v)\n",
    "\n",
    "# Arousal\n",
    "hrv_feats_ar = get_feats('HRV', names_a)\n",
    "\n",
    "# Dominance\n",
    "hrv_feats_dom = get_feats('HRV', names_d)\n",
    "\n",
    "# Liking\n",
    "hrv_feats_lik = get_feats('HRV', names_l)"
   ]
  },
  {
   "cell_type": "code",
   "execution_count": 48,
   "metadata": {},
   "outputs": [],
   "source": [
    "features = read_feats(HRV_DIR, N_PATIENTS)"
   ]
  },
  {
   "cell_type": "code",
   "execution_count": 49,
   "metadata": {},
   "outputs": [],
   "source": [
    "valence_final = pd.concat([valence_final, features[hrv_feats_val]], axis=1)\n",
    "arousal_final = pd.concat([arousal_final, features[hrv_feats_ar]], axis=1)\n",
    "dominance_final = pd.concat([dominance_final, features[hrv_feats_dom]], axis=1)\n",
    "liking_final = pd.concat([liking_final, features[hrv_feats_lik]], axis=1)"
   ]
  },
  {
   "source": [
    "### <i> RESP </i>"
   ],
   "cell_type": "markdown",
   "metadata": {}
  },
  {
   "cell_type": "code",
   "execution_count": 50,
   "metadata": {},
   "outputs": [],
   "source": [
    "# Valence\n",
    "resp_feats_val = get_feats('RESP', names_v)\n",
    "\n",
    "# Arousal\n",
    "resp_feats_ar = get_feats('RESP', names_a)\n",
    "\n",
    "# Dominance\n",
    "resp_feats_dom = get_feats('RESP', names_d)\n",
    "\n",
    "# Liking\n",
    "resp_feats_lik = get_feats('RESP', names_l)"
   ]
  },
  {
   "cell_type": "code",
   "execution_count": 51,
   "metadata": {},
   "outputs": [],
   "source": [
    "features = read_feats(RESP_DIR, N_PATIENTS)"
   ]
  },
  {
   "cell_type": "code",
   "execution_count": 52,
   "metadata": {},
   "outputs": [],
   "source": [
    "valence_final = pd.concat([valence_final, features[resp_feats_val]], axis=1)\n",
    "arousal_final = pd.concat([arousal_final, features[resp_feats_ar]], axis=1)\n",
    "dominance_final = pd.concat([dominance_final, features[resp_feats_dom]], axis=1)\n",
    "liking_final = pd.concat([liking_final, features[resp_feats_lik]], axis=1)"
   ]
  },
  {
   "source": [
    "### <i> TEMG </i>"
   ],
   "cell_type": "markdown",
   "metadata": {}
  },
  {
   "cell_type": "code",
   "execution_count": 53,
   "metadata": {},
   "outputs": [],
   "source": [
    "# Valence\n",
    "temg_feats_val = get_feats('TEMG', names_v)\n",
    "\n",
    "# Arousal\n",
    "temg_feats_ar = get_feats('TEMG', names_a)\n",
    "\n",
    "# Dominance\n",
    "temg_feats_dom = get_feats('TEMG', names_d)\n",
    "\n",
    "# Liking\n",
    "temg_feats_lik = get_feats('TEMG', names_l)"
   ]
  },
  {
   "cell_type": "code",
   "execution_count": 54,
   "metadata": {},
   "outputs": [],
   "source": [
    "features = read_feats(TEMG_DIR, N_PATIENTS)"
   ]
  },
  {
   "cell_type": "code",
   "execution_count": 55,
   "metadata": {},
   "outputs": [],
   "source": [
    "valence_final = pd.concat([valence_final, features[temg_feats_val]], axis=1)\n",
    "arousal_final = pd.concat([arousal_final, features[temg_feats_ar]], axis=1)\n",
    "dominance_final = pd.concat([dominance_final, features[temg_feats_dom]], axis=1)\n",
    "liking_final = pd.concat([liking_final, features[temg_feats_lik]], axis=1)"
   ]
  },
  {
   "source": [
    "### <i> TEMP </i>"
   ],
   "cell_type": "markdown",
   "metadata": {}
  },
  {
   "cell_type": "code",
   "execution_count": 56,
   "metadata": {},
   "outputs": [],
   "source": [
    "# Valence\n",
    "temp_feats_val = get_feats('TEMP', names_v)\n",
    "\n",
    "# Arousal\n",
    "temp_feats_ar = get_feats('TEMP', names_a)\n",
    "\n",
    "# Dominance\n",
    "temp_feats_dom = get_feats('TEMP', names_d)\n",
    "\n",
    "# Liking\n",
    "temp_feats_lik = get_feats('TEMP', names_l)"
   ]
  },
  {
   "cell_type": "code",
   "execution_count": 57,
   "metadata": {},
   "outputs": [],
   "source": [
    "features = read_feats(TEMP_DIR, N_PATIENTS)"
   ]
  },
  {
   "cell_type": "code",
   "execution_count": 58,
   "metadata": {},
   "outputs": [],
   "source": [
    "valence_final = pd.concat([valence_final, features[temp_feats_val]], axis=1)\n",
    "arousal_final = pd.concat([arousal_final, features[temp_feats_ar]], axis=1)\n",
    "dominance_final = pd.concat([dominance_final, features[temp_feats_dom]], axis=1)\n",
    "liking_final = pd.concat([liking_final, features[temp_feats_lik]], axis=1)"
   ]
  },
  {
   "source": [
    "### <i> EEG </i>"
   ],
   "cell_type": "markdown",
   "metadata": {}
  },
  {
   "cell_type": "code",
   "execution_count": 59,
   "metadata": {},
   "outputs": [],
   "source": [
    "for e in electrodes:\n",
    "    # Valence\n",
    "    eeg_feats_val = get_feats(e, names_v)\n",
    "\n",
    "    # Arousal\n",
    "    eeg_feats_ar = get_feats(e, names_a)\n",
    "\n",
    "    # Dominance\n",
    "    eeg_feats_dom = get_feats(e, names_d)\n",
    "\n",
    "    # Liking\n",
    "    eeg_feats_lik = get_feats(e, names_l)\n",
    "\n",
    "    for i in range(1, 33):\n",
    "\n",
    "        filename = \"s{:02d}_eegfeatures.csv\".format(i)\n",
    "\n",
    "        features_i = pd.read_csv(os.path.join(EEG_DIR, e, filename), index_col=0)\n",
    "\n",
    "        if i == 1:\n",
    "            features = features_i.copy()\n",
    "        else:\n",
    "            features = features.append(features_i, ignore_index=True)\n",
    "\n",
    "    valence_final = pd.concat([valence_final, features[eeg_feats_val]], axis=1)\n",
    "    arousal_final = pd.concat([arousal_final, features[eeg_feats_ar]], axis=1)\n",
    "    dominance_final = pd.concat([dominance_final, features[eeg_feats_dom]], axis=1)\n",
    "    liking_final = pd.concat([liking_final, features[eeg_feats_lik]], axis=1)"
   ]
  },
  {
   "source": [
    "### Saving"
   ],
   "cell_type": "markdown",
   "metadata": {}
  },
  {
   "cell_type": "code",
   "execution_count": 60,
   "metadata": {},
   "outputs": [],
   "source": [
    "valence_final.to_csv('valence_features_100.csv')\n",
    "arousal_final.to_csv('arousal_features_100.csv')\n",
    "dominance_final.to_csv('dominance_features_100.csv')\n",
    "liking_final.to_csv('liking_features_100.csv')"
   ]
  },
  {
   "source": [
    "targets = pd.read_csv('za_klasifikaciju.csv')"
   ],
   "cell_type": "markdown",
   "metadata": {}
  },
  {
   "source": [
    "val_targets = np.array(targets['Valence'])\n",
    "val_targets[val_targets<4.5] = 0\n",
    "val_targets[val_targets>=4.5] = 1\n",
    "\n",
    "ar_targets = np.array(targets['Arousal'])\n",
    "ar_targets[ar_targets<4.5] = 0\n",
    "ar_targets[ar_targets>=4.5] = 1\n",
    "\n",
    "dom_targets = np.array(targets['Dominance'])\n",
    "dom_targets[dom_targets<4.5] = 0\n",
    "dom_targets[dom_targets>=4.5] = 1\n",
    "\n",
    "lik_targets = np.array(targets['Liking'])\n",
    "lik_targets[lik_targets<4.5] = 0\n",
    "lik_targets[lik_targets>=4.5] = 1"
   ],
   "cell_type": "markdown",
   "metadata": {}
  },
  {
   "source": [
    "pd.DataFrame(val_targets).to_csv('valence_targets.csv')\n",
    "pd.DataFrame(ar_targets).to_csv('arousal_targets.csv')\n",
    "pd.DataFrame(dom_targets).to_csv('dominance_targets.csv')\n",
    "pd.DataFrame(lik_targets).to_csv('liking_targets.csv')"
   ],
   "cell_type": "markdown",
   "metadata": {}
  },
  {
   "cell_type": "code",
   "execution_count": null,
   "metadata": {},
   "outputs": [],
   "source": []
  }
 ]
}