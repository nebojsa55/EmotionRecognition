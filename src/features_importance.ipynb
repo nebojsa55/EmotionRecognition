{
 "metadata": {
  "orig_nbformat": 2,
  "kernelspec": {
   "name": "python38564bit080e6804bfd24b2da2be4f89ee7eb83b",
   "display_name": "Python 3.8.5 64-bit"
  },
  "metadata": {
   "interpreter": {
    "hash": "31f2aee4e71d21fbe5cf8b01ff0e069b9275f58929596ceb00d14d90e3e16cd6"
   }
  }
 },
 "nbformat": 4,
 "nbformat_minor": 2,
 "cells": [
  {
   "cell_type": "code",
   "execution_count": 1,
   "source": [
    "import pandas as pd\r\n",
    "import numpy as np\r\n",
    "import matplotlib.pyplot as plt\r\n",
    "import os"
   ],
   "outputs": [],
   "metadata": {}
  },
  {
   "cell_type": "code",
   "execution_count": 2,
   "source": [
    "from sklearn.feature_selection import mutual_info_classif"
   ],
   "outputs": [],
   "metadata": {}
  },
  {
   "cell_type": "code",
   "execution_count": 3,
   "source": [
    "data = pd.read_csv(\"za_klasifikaciju.csv\")"
   ],
   "outputs": [],
   "metadata": {}
  },
  {
   "cell_type": "code",
   "execution_count": 4,
   "source": [
    "del data['Participant_id']"
   ],
   "outputs": [],
   "metadata": {}
  },
  {
   "cell_type": "code",
   "execution_count": 5,
   "source": [
    "def read_feats(dir, n_patients):\r\n",
    "\r\n",
    "    for i in range(1, n_patients):\r\n",
    "        filename = \"s{:02d}_{}.csv\".format(i, (dir.split('_')[0]).lower())\r\n",
    "\r\n",
    "        features_i = pd.read_csv(os.path.join(dir, filename), index_col=0)\r\n",
    "\r\n",
    "        if i == 1:\r\n",
    "            features = features_i.copy()\r\n",
    "        else:\r\n",
    "            features = features.append(features_i, ignore_index=True)\r\n",
    "    \r\n",
    "    return features"
   ],
   "outputs": [],
   "metadata": {}
  },
  {
   "cell_type": "code",
   "execution_count": 6,
   "source": [
    "def get_mi(features, data, type_, feat_name):\r\n",
    "    \"\"\"\r\n",
    "    INPUT\r\n",
    "    ------\r\n",
    "    features -> all features for one modality and one participant\r\n",
    "    data -> classifiaction labels for all participants\r\n",
    "    type_ -> str in ['Valence', 'Arousal', 'Dominance', 'Liking']\r\n",
    "    feat_name -> name of modality\r\n",
    "\r\n",
    "    RETURNS\r\n",
    "    ------\r\n",
    "    dict of feature names and their mutual info scores\r\n",
    "    \"\"\"\r\n",
    "\r\n",
    "    #data_p = data.query(\"Participant_id == {}\".format(p_id)).copy()\r\n",
    "\r\n",
    "    if type_ == 'Valence':\r\n",
    "        y = data['Valence'].copy()\r\n",
    "    elif type_ == 'Arousal':\r\n",
    "        y = data['Arousal'].copy()\r\n",
    "    elif type_ == 'Dominance':\r\n",
    "        y = data['Dominance'].copy()\r\n",
    "    elif type_ == 'Liking':\r\n",
    "        y = data['Liking'].copy()\r\n",
    "\r\n",
    "    # Binary classification, 1-high, 0-low\r\n",
    "    y[y < 4.5] = 0\r\n",
    "    y[y >= 4.5] = 1\r\n",
    "\r\n",
    "    try:\r\n",
    "        m_i = mutual_info_classif(features, y)\r\n",
    "    except ValueError:\r\n",
    "        m_i = mutual_info_classif(features.fillna(0), y)\r\n",
    "\r\n",
    "    #labels = np.array(list(features))\r\n",
    "\r\n",
    "    #inds = np.argsort(m_i)\r\n",
    "    #m_i = m_i[inds]\r\n",
    "    #labels = labels[inds]\r\n",
    "\r\n",
    "    #return {'name': feat_name, 'labels': labels, 'm_info': m_i}\r\n",
    "    return m_i"
   ],
   "outputs": [],
   "metadata": {}
  },
  {
   "cell_type": "code",
   "execution_count": 7,
   "source": [
    "plt.style.use('fivethirtyeight')\r\n",
    "plt.rc('font', size=10)"
   ],
   "outputs": [],
   "metadata": {}
  },
  {
   "cell_type": "code",
   "execution_count": 8,
   "source": [
    "N_PATIENTS = 33"
   ],
   "outputs": [],
   "metadata": {}
  },
  {
   "cell_type": "markdown",
   "source": [
    "# GSR"
   ],
   "metadata": {}
  },
  {
   "cell_type": "code",
   "execution_count": 9,
   "source": [
    "GSR_DIR = 'gsr_features/'"
   ],
   "outputs": [],
   "metadata": {}
  },
  {
   "cell_type": "code",
   "execution_count": 10,
   "source": [
    "features = read_feats(GSR_DIR, N_PATIENTS)"
   ],
   "outputs": [],
   "metadata": {}
  },
  {
   "cell_type": "code",
   "execution_count": 11,
   "source": [
    "mi_gsr = []\r\n",
    "\r\n",
    "for t in ['Valence', 'Arousal', 'Dominance', 'Liking']:\r\n",
    "    mi_gsr += [get_mi(features, data, t, 'GSR')]"
   ],
   "outputs": [],
   "metadata": {}
  },
  {
   "cell_type": "code",
   "execution_count": 12,
   "source": [
    "f_names_gsr = ['GSR-'+x for x in list(features)]\r\n",
    "#f_names_gsr = ['GSR' for x in list(features)]"
   ],
   "outputs": [],
   "metadata": {}
  },
  {
   "cell_type": "markdown",
   "source": [
    "# HRV"
   ],
   "metadata": {}
  },
  {
   "cell_type": "code",
   "execution_count": 13,
   "source": [
    "HRV_DIR = 'hrv_features/'"
   ],
   "outputs": [],
   "metadata": {}
  },
  {
   "cell_type": "code",
   "execution_count": 14,
   "source": [
    "features = read_feats(HRV_DIR, N_PATIENTS)"
   ],
   "outputs": [],
   "metadata": {}
  },
  {
   "cell_type": "code",
   "execution_count": 15,
   "source": [
    "mi_hrv = []\r\n",
    "\r\n",
    "for t in ['Valence', 'Arousal', 'Dominance', 'Liking']:\r\n",
    "    mi_hrv += [get_mi(features, data, t, 'HRV')]\r\n",
    "        "
   ],
   "outputs": [],
   "metadata": {}
  },
  {
   "cell_type": "code",
   "execution_count": 16,
   "source": [
    "f_names_hrv = ['HRV-'+x for x in list(features)]\r\n",
    "#f_names_hrv = ['HRV' for x in list(features)]"
   ],
   "outputs": [],
   "metadata": {}
  },
  {
   "cell_type": "markdown",
   "source": [
    "# RESP"
   ],
   "metadata": {}
  },
  {
   "cell_type": "code",
   "execution_count": 17,
   "source": [
    "RESP_DIR = 'resp_features/'"
   ],
   "outputs": [],
   "metadata": {}
  },
  {
   "cell_type": "code",
   "execution_count": 18,
   "source": [
    "features = read_feats(RESP_DIR, N_PATIENTS)"
   ],
   "outputs": [],
   "metadata": {}
  },
  {
   "cell_type": "code",
   "execution_count": 19,
   "source": [
    "mi_resp = []\r\n",
    "\r\n",
    "for t in ['Valence', 'Arousal', 'Dominance', 'Liking']:\r\n",
    "    mi_resp += [get_mi(features, data, t, 'RESP')]"
   ],
   "outputs": [],
   "metadata": {}
  },
  {
   "cell_type": "code",
   "execution_count": 20,
   "source": [
    "f_names_resp = ['RESP-'+x for x in list(features)]\r\n",
    "#f_names_resp = ['RESP' for x in list(features)]"
   ],
   "outputs": [],
   "metadata": {}
  },
  {
   "cell_type": "markdown",
   "source": [
    "# TEMG"
   ],
   "metadata": {}
  },
  {
   "cell_type": "code",
   "execution_count": 21,
   "source": [
    "TEMG_DIR = 'temg_features/'"
   ],
   "outputs": [],
   "metadata": {}
  },
  {
   "cell_type": "code",
   "execution_count": 22,
   "source": [
    "features = read_feats(TEMG_DIR, N_PATIENTS)"
   ],
   "outputs": [],
   "metadata": {}
  },
  {
   "cell_type": "code",
   "execution_count": 23,
   "source": [
    "mi_temg = []\r\n",
    "\r\n",
    "for t in ['Valence', 'Arousal', 'Dominance', 'Liking']:\r\n",
    "    mi_temg += [get_mi(features, data, t, 'TEMG')]"
   ],
   "outputs": [],
   "metadata": {}
  },
  {
   "cell_type": "code",
   "execution_count": 24,
   "source": [
    "f_names_temg = ['TEMG-'+x for x in list(features)]\r\n",
    "#f_names_temg = ['TEMG' for x in list(features)]"
   ],
   "outputs": [],
   "metadata": {}
  },
  {
   "cell_type": "markdown",
   "source": [
    "# TEMP"
   ],
   "metadata": {}
  },
  {
   "cell_type": "code",
   "execution_count": 25,
   "source": [
    "TEMP_DIR = 'temp_features/'"
   ],
   "outputs": [],
   "metadata": {}
  },
  {
   "cell_type": "code",
   "execution_count": 26,
   "source": [
    "features = read_feats(TEMP_DIR, N_PATIENTS)"
   ],
   "outputs": [],
   "metadata": {}
  },
  {
   "cell_type": "code",
   "execution_count": 27,
   "source": [
    "mi_temp = []\r\n",
    "\r\n",
    "for t in ['Valence', 'Arousal', 'Dominance', 'Liking']:\r\n",
    "    mi_temp += [get_mi(features, data, t, 'TEMP')]"
   ],
   "outputs": [],
   "metadata": {}
  },
  {
   "cell_type": "code",
   "execution_count": 28,
   "source": [
    "f_names_temp = ['TEMP-'+x for x in list(features)]\r\n",
    "#f_names_temp = ['TEMP' for x in list(features)]"
   ],
   "outputs": [],
   "metadata": {}
  },
  {
   "cell_type": "markdown",
   "source": [
    "# ZEMG"
   ],
   "metadata": {}
  },
  {
   "cell_type": "code",
   "execution_count": 29,
   "source": [
    "ZEMG_DIR = 'zemg_features/'"
   ],
   "outputs": [],
   "metadata": {}
  },
  {
   "cell_type": "code",
   "execution_count": 30,
   "source": [
    "features = read_feats(ZEMG_DIR, N_PATIENTS)"
   ],
   "outputs": [],
   "metadata": {}
  },
  {
   "cell_type": "code",
   "execution_count": 31,
   "source": [
    "mi_zemg = []\r\n",
    "\r\n",
    "for t in ['Valence', 'Arousal', 'Dominance', 'Liking']:\r\n",
    "    mi_zemg += [get_mi(features, data, t, 'ZEMG')]"
   ],
   "outputs": [],
   "metadata": {}
  },
  {
   "cell_type": "code",
   "execution_count": 32,
   "source": [
    "f_names_zemg = ['ZEMG-'+x for x in list(features)]\r\n",
    "#f_names_zemg = ['ZEMG' for x in list(features)]"
   ],
   "outputs": [],
   "metadata": {}
  },
  {
   "cell_type": "markdown",
   "source": [
    "# EEG"
   ],
   "metadata": {}
  },
  {
   "cell_type": "code",
   "execution_count": 33,
   "source": [
    "EEG_DIR = 'eeg_features/'\r\n",
    "electrodes = os.listdir(EEG_DIR)"
   ],
   "outputs": [],
   "metadata": {}
  },
  {
   "cell_type": "code",
   "execution_count": 34,
   "source": [
    "f_names_eeg = []"
   ],
   "outputs": [],
   "metadata": {}
  },
  {
   "cell_type": "code",
   "execution_count": 35,
   "source": [
    "mi_eeg = []\r\n",
    "\r\n",
    "for e in electrodes:\r\n",
    "\r\n",
    "    for i in range(1, 33):\r\n",
    "\r\n",
    "        filename = \"s{:02d}_eegfeatures.csv\".format(i)\r\n",
    "\r\n",
    "        features_i = pd.read_csv(os.path.join(EEG_DIR, e, filename), index_col=0)\r\n",
    "\r\n",
    "        if i == 1:\r\n",
    "            features = features_i.copy()\r\n",
    "        else:\r\n",
    "            features = features.append(features_i, ignore_index=True)\r\n",
    "    mi_e = []\r\n",
    "    for t in ['Valence', 'Arousal', 'Dominance', 'Liking']:\r\n",
    "        mi_e += [get_mi(features, data, t, e)]\r\n",
    "    \r\n",
    "    mi_eeg += [mi_e]\r\n",
    "\r\n",
    "    f_names_electrode = [e+'-'+x for x in list(features)]\r\n",
    "    #f_names_electrode = [e for x in list(features)]\r\n",
    "    f_names_eeg += f_names_electrode"
   ],
   "outputs": [],
   "metadata": {}
  },
  {
   "cell_type": "markdown",
   "source": [
    "# Comparison"
   ],
   "metadata": {}
  },
  {
   "cell_type": "code",
   "execution_count": 36,
   "source": [
    "f_names = f_names_gsr + f_names_resp + f_names_temg + f_names_temp + f_names_zemg + f_names_eeg"
   ],
   "outputs": [],
   "metadata": {}
  },
  {
   "cell_type": "code",
   "execution_count": 37,
   "source": [
    "mi = [mi_gsr, mi_resp, mi_temg, mi_temp, mi_zemg]\r\n",
    "\r\n",
    "mi += mi_eeg"
   ],
   "outputs": [],
   "metadata": {}
  },
  {
   "cell_type": "code",
   "execution_count": 44,
   "source": [
    "valence = []\r\n",
    "arousal = []\r\n",
    "dominance = []\r\n",
    "liking = []\r\n",
    "val_feats = []\r\n",
    "ar_feats = []\r\n",
    "dom_feats = []\r\n",
    "lik_feats = []\r\n",
    "\r\n",
    "for i in range(len(mi)):\r\n",
    "    valence += list(mi[i][0])\r\n",
    "    arousal += list(mi[i][1])\r\n",
    "    dominance += list(mi[i][2])\r\n",
    "    liking += list(mi[i][3])"
   ],
   "outputs": [],
   "metadata": {}
  },
  {
   "cell_type": "code",
   "execution_count": 45,
   "source": [
    "valence = np.array(valence)\r\n",
    "arousal = np.array(arousal)\r\n",
    "dominance = np.array(dominance)\r\n",
    "liking = np.array(liking)\r\n",
    "f_names = np.array(f_names)"
   ],
   "outputs": [],
   "metadata": {}
  },
  {
   "cell_type": "code",
   "execution_count": 46,
   "source": [
    "ind_v = np.argsort(valence)\r\n",
    "valence = valence[ind_v]\r\n",
    "names_v = f_names[ind_v]\r\n",
    "\r\n",
    "ind_a = np.argsort(arousal)\r\n",
    "arousal = arousal[ind_a]\r\n",
    "names_a = f_names[ind_a]\r\n",
    "\r\n",
    "ind_d = np.argsort(dominance)\r\n",
    "dominance = dominance[ind_d]\r\n",
    "names_d = f_names[ind_d]\r\n",
    "\r\n",
    "ind_l = np.argsort(liking)\r\n",
    "liking = liking[ind_l]\r\n",
    "names_l = f_names[ind_l]"
   ],
   "outputs": [],
   "metadata": {}
  },
  {
   "cell_type": "code",
   "execution_count": 47,
   "source": [
    "valence = valence[-200:]\r\n",
    "names_v = names_v[-200:]\r\n",
    "\r\n",
    "arousal = arousal[-200:]\r\n",
    "names_a = names_a[-200:]\r\n",
    "\r\n",
    "dominance = dominance[-200:]\r\n",
    "names_d = names_d[-200:]\r\n",
    "\r\n",
    "liking = liking[-200:]\r\n",
    "names_l = names_l[-200:]"
   ],
   "outputs": [],
   "metadata": {}
  },
  {
   "cell_type": "code",
   "execution_count": 43,
   "source": [
    "plt.figure(figsize=(12, 10))\r\n",
    "\r\n",
    "plt.subplot(2, 2, 1)\r\n",
    "plt.barh(names_v[-20:], valence[-20:], color='y')\r\n",
    "plt.title('Valence')\r\n",
    "plt.xlabel('Mutual information')\r\n",
    "\r\n",
    "plt.subplot(2, 2, 2)\r\n",
    "plt.barh(names_a[-20:], arousal[-20:], color='y')\r\n",
    "plt.title('Arousal')\r\n",
    "plt.xlabel('Mutual information')\r\n",
    "\r\n",
    "plt.subplot(2, 2, 3)\r\n",
    "plt.barh(names_d[-20:], dominance[-20:], color='y')\r\n",
    "plt.title('Dominance')\r\n",
    "plt.xlabel('Mutual information')\r\n",
    "\r\n",
    "plt.subplot(2, 2, 4)\r\n",
    "plt.barh(names_l[-20:], liking[-20:], color='y')\r\n",
    "plt.title('Liking')\r\n",
    "plt.xlabel('Mutual information')\r\n",
    "\r\n",
    "plt.tight_layout()\r\n",
    "\r\n",
    "plt.show()"
   ],
   "outputs": [
    {
     "output_type": "display_data",
     "data": {
      "text/plain": [
       "<Figure size 864x720 with 4 Axes>"
      ],
      "image/png": "[encoded data removed]"
     },
     "metadata": {}
    }
   ],
   "metadata": {}
  },
  {
   "cell_type": "markdown",
   "source": [
    "## Saving best features"
   ],
   "metadata": {}
  },
  {
   "cell_type": "code",
   "execution_count": 48,
   "source": [
    "valence_final = pd.DataFrame()\r\n",
    "arousal_final = pd.DataFrame()\r\n",
    "dominance_final = pd.DataFrame()\r\n",
    "liking_final = pd.DataFrame()"
   ],
   "outputs": [],
   "metadata": {}
  },
  {
   "cell_type": "code",
   "execution_count": 62,
   "source": [
    "def get_feats(type_, names):\r\n",
    "\r\n",
    "    feats = []\r\n",
    "    for f in names:\r\n",
    "        if f.split('-')[0] == type_:\r\n",
    "            feats += [f.split('-', 1)[1]]\r\n",
    "\r\n",
    "    return feats"
   ],
   "outputs": [],
   "metadata": {}
  },
  {
   "cell_type": "markdown",
   "source": [
    "### <i> GSR </i>"
   ],
   "metadata": {}
  },
  {
   "cell_type": "code",
   "execution_count": 63,
   "source": [
    "# Valence\r\n",
    "gsr_feats_val = get_feats('GSR', names_v)\r\n",
    "\r\n",
    "# Arousal\r\n",
    "gsr_feats_ar = get_feats('GSR', names_a)\r\n",
    "\r\n",
    "# Dominance\r\n",
    "gsr_feats_dom = get_feats('GSR', names_d)\r\n",
    "\r\n",
    "# Liking\r\n",
    "gsr_feats_lik = get_feats('GSR', names_l)"
   ],
   "outputs": [],
   "metadata": {}
  },
  {
   "cell_type": "code",
   "execution_count": 64,
   "source": [
    "features = read_feats(GSR_DIR, N_PATIENTS)"
   ],
   "outputs": [],
   "metadata": {}
  },
  {
   "cell_type": "code",
   "execution_count": 65,
   "source": [
    "valence_final = pd.concat([valence_final, features[gsr_feats_val]], axis=1)\r\n",
    "arousal_final = pd.concat([arousal_final, features[gsr_feats_ar]], axis=1)\r\n",
    "dominance_final = pd.concat([dominance_final, features[gsr_feats_dom]], axis=1)\r\n",
    "liking_final = pd.concat([liking_final, features[gsr_feats_lik]], axis=1)"
   ],
   "outputs": [],
   "metadata": {}
  },
  {
   "cell_type": "markdown",
   "source": [
    "### <i> HRV </i>"
   ],
   "metadata": {}
  },
  {
   "cell_type": "code",
   "execution_count": 66,
   "source": [
    "# Valence\r\n",
    "hrv_feats_val = get_feats('HRV', names_v)\r\n",
    "\r\n",
    "# Arousal\r\n",
    "hrv_feats_ar = get_feats('HRV', names_a)\r\n",
    "\r\n",
    "# Dominance\r\n",
    "hrv_feats_dom = get_feats('HRV', names_d)\r\n",
    "\r\n",
    "# Liking\r\n",
    "hrv_feats_lik = get_feats('HRV', names_l)"
   ],
   "outputs": [],
   "metadata": {}
  },
  {
   "cell_type": "code",
   "execution_count": 67,
   "source": [
    "features = read_feats(HRV_DIR, N_PATIENTS)"
   ],
   "outputs": [],
   "metadata": {}
  },
  {
   "cell_type": "code",
   "execution_count": 68,
   "source": [
    "valence_final = pd.concat([valence_final, features[hrv_feats_val]], axis=1)\r\n",
    "arousal_final = pd.concat([arousal_final, features[hrv_feats_ar]], axis=1)\r\n",
    "dominance_final = pd.concat([dominance_final, features[hrv_feats_dom]], axis=1)\r\n",
    "liking_final = pd.concat([liking_final, features[hrv_feats_lik]], axis=1)"
   ],
   "outputs": [],
   "metadata": {}
  },
  {
   "cell_type": "markdown",
   "source": [
    "### <i> RESP </i>"
   ],
   "metadata": {}
  },
  {
   "cell_type": "code",
   "execution_count": 69,
   "source": [
    "# Valence\r\n",
    "resp_feats_val = get_feats('RESP', names_v)\r\n",
    "\r\n",
    "# Arousal\r\n",
    "resp_feats_ar = get_feats('RESP', names_a)\r\n",
    "\r\n",
    "# Dominance\r\n",
    "resp_feats_dom = get_feats('RESP', names_d)\r\n",
    "\r\n",
    "# Liking\r\n",
    "resp_feats_lik = get_feats('RESP', names_l)"
   ],
   "outputs": [],
   "metadata": {}
  },
  {
   "cell_type": "code",
   "execution_count": 70,
   "source": [
    "features = read_feats(RESP_DIR, N_PATIENTS)"
   ],
   "outputs": [],
   "metadata": {}
  },
  {
   "cell_type": "code",
   "execution_count": 71,
   "source": [
    "valence_final = pd.concat([valence_final, features[resp_feats_val]], axis=1)\r\n",
    "arousal_final = pd.concat([arousal_final, features[resp_feats_ar]], axis=1)\r\n",
    "dominance_final = pd.concat([dominance_final, features[resp_feats_dom]], axis=1)\r\n",
    "liking_final = pd.concat([liking_final, features[resp_feats_lik]], axis=1)"
   ],
   "outputs": [],
   "metadata": {}
  },
  {
   "cell_type": "markdown",
   "source": [
    "### <i> TEMG </i>"
   ],
   "metadata": {}
  },
  {
   "cell_type": "code",
   "execution_count": 72,
   "source": [
    "# Valence\r\n",
    "temg_feats_val = get_feats('TEMG', names_v)\r\n",
    "\r\n",
    "# Arousal\r\n",
    "temg_feats_ar = get_feats('TEMG', names_a)\r\n",
    "\r\n",
    "# Dominance\r\n",
    "temg_feats_dom = get_feats('TEMG', names_d)\r\n",
    "\r\n",
    "# Liking\r\n",
    "temg_feats_lik = get_feats('TEMG', names_l)"
   ],
   "outputs": [],
   "metadata": {}
  },
  {
   "cell_type": "code",
   "execution_count": 73,
   "source": [
    "features = read_feats(TEMG_DIR, N_PATIENTS)"
   ],
   "outputs": [],
   "metadata": {}
  },
  {
   "cell_type": "code",
   "execution_count": 74,
   "source": [
    "valence_final = pd.concat([valence_final, features[temg_feats_val]], axis=1)\r\n",
    "arousal_final = pd.concat([arousal_final, features[temg_feats_ar]], axis=1)\r\n",
    "dominance_final = pd.concat([dominance_final, features[temg_feats_dom]], axis=1)\r\n",
    "liking_final = pd.concat([liking_final, features[temg_feats_lik]], axis=1)"
   ],
   "outputs": [],
   "metadata": {}
  },
  {
   "cell_type": "markdown",
   "source": [
    "### <i> TEMP </i>"
   ],
   "metadata": {}
  },
  {
   "cell_type": "code",
   "execution_count": 75,
   "source": [
    "# Valence\r\n",
    "temp_feats_val = get_feats('TEMP', names_v)\r\n",
    "\r\n",
    "# Arousal\r\n",
    "temp_feats_ar = get_feats('TEMP', names_a)\r\n",
    "\r\n",
    "# Dominance\r\n",
    "temp_feats_dom = get_feats('TEMP', names_d)\r\n",
    "\r\n",
    "# Liking\r\n",
    "temp_feats_lik = get_feats('TEMP', names_l)"
   ],
   "outputs": [],
   "metadata": {}
  },
  {
   "cell_type": "code",
   "execution_count": 76,
   "source": [
    "features = read_feats(TEMP_DIR, N_PATIENTS)"
   ],
   "outputs": [],
   "metadata": {}
  },
  {
   "cell_type": "code",
   "execution_count": 77,
   "source": [
    "valence_final = pd.concat([valence_final, features[temp_feats_val]], axis=1)\r\n",
    "arousal_final = pd.concat([arousal_final, features[temp_feats_ar]], axis=1)\r\n",
    "dominance_final = pd.concat([dominance_final, features[temp_feats_dom]], axis=1)\r\n",
    "liking_final = pd.concat([liking_final, features[temp_feats_lik]], axis=1)"
   ],
   "outputs": [],
   "metadata": {}
  },
  {
   "cell_type": "markdown",
   "source": [
    "### <i> EEG </i>"
   ],
   "metadata": {}
  },
  {
   "cell_type": "code",
   "execution_count": 78,
   "source": [
    "for e in electrodes:\r\n",
    "    # Valence\r\n",
    "    eeg_feats_val = get_feats(e, names_v)\r\n",
    "\r\n",
    "    # Arousal\r\n",
    "    eeg_feats_ar = get_feats(e, names_a)\r\n",
    "\r\n",
    "    # Dominance\r\n",
    "    eeg_feats_dom = get_feats(e, names_d)\r\n",
    "\r\n",
    "    # Liking\r\n",
    "    eeg_feats_lik = get_feats(e, names_l)\r\n",
    "\r\n",
    "    for i in range(1, 33):\r\n",
    "\r\n",
    "        filename = \"s{:02d}_eegfeatures.csv\".format(i)\r\n",
    "\r\n",
    "        features_i = pd.read_csv(os.path.join(EEG_DIR, e, filename), index_col=0)\r\n",
    "\r\n",
    "        if i == 1:\r\n",
    "            features = features_i.copy()\r\n",
    "        else:\r\n",
    "            features = features.append(features_i, ignore_index=True)\r\n",
    "\r\n",
    "    valence_final = pd.concat([valence_final, features[eeg_feats_val]], axis=1)\r\n",
    "    arousal_final = pd.concat([arousal_final, features[eeg_feats_ar]], axis=1)\r\n",
    "    dominance_final = pd.concat([dominance_final, features[eeg_feats_dom]], axis=1)\r\n",
    "    liking_final = pd.concat([liking_final, features[eeg_feats_lik]], axis=1)"
   ],
   "outputs": [],
   "metadata": {}
  },
  {
   "cell_type": "markdown",
   "source": [
    "### Saving"
   ],
   "metadata": {}
  },
  {
   "cell_type": "code",
   "execution_count": 79,
   "source": [
    "valence_final.to_csv('valence_features_200.csv')\r\n",
    "arousal_final.to_csv('arousal_features_200.csv')\r\n",
    "dominance_final.to_csv('dominance_features_200.csv')\r\n",
    "liking_final.to_csv('liking_features_200.csv')"
   ],
   "outputs": [],
   "metadata": {}
  }
 ]
}