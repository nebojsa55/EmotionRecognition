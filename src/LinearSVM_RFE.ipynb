{
 "cells": [
  {
   "cell_type": "code",
   "execution_count": 1,
   "metadata": {},
   "outputs": [],
   "source": [
    "import pandas as pd\n",
    "import numpy as np\n",
    "import matplotlib.pyplot as plt\n",
    "from sklearn.preprocessing import scale\n",
    "from sklearn.model_selection import train_test_split\n",
    "from sklearn.svm import SVC\n",
    "from sklearn.model_selection import GridSearchCV\n",
    "from sklearn.model_selection import StratifiedKFold\n",
    "from sklearn.feature_selection import RFE\n",
    "from sklearn.metrics import confusion_matrix, accuracy_score, f1_score"
   ]
  },
  {
   "cell_type": "markdown",
   "metadata": {},
   "source": [
    "# Class labels"
   ]
  },
  {
   "cell_type": "code",
   "execution_count": 2,
   "metadata": {},
   "outputs": [
    {
     "data": {
      "text/html": [
       "<div>\n",
       "<style scoped>\n",
       "    .dataframe tbody tr th:only-of-type {\n",
       "        vertical-align: middle;\n",
       "    }\n",
       "\n",
       "    .dataframe tbody tr th {\n",
       "        vertical-align: top;\n",
       "    }\n",
       "\n",
       "    .dataframe thead th {\n",
       "        text-align: right;\n",
       "    }\n",
       "</style>\n",
       "<table border=\"1\" class=\"dataframe\">\n",
       "  <thead>\n",
       "    <tr style=\"text-align: right;\">\n",
       "      <th></th>\n",
       "      <th>Trial</th>\n",
       "      <th>Valence</th>\n",
       "      <th>Arousal</th>\n",
       "      <th>Dominance</th>\n",
       "      <th>Liking</th>\n",
       "    </tr>\n",
       "  </thead>\n",
       "  <tbody>\n",
       "    <tr>\n",
       "      <th>0</th>\n",
       "      <td>1</td>\n",
       "      <td>6.96</td>\n",
       "      <td>3.92</td>\n",
       "      <td>7.19</td>\n",
       "      <td>6.05</td>\n",
       "    </tr>\n",
       "    <tr>\n",
       "      <th>1</th>\n",
       "      <td>2</td>\n",
       "      <td>7.23</td>\n",
       "      <td>7.15</td>\n",
       "      <td>6.94</td>\n",
       "      <td>8.01</td>\n",
       "    </tr>\n",
       "    <tr>\n",
       "      <th>2</th>\n",
       "      <td>3</td>\n",
       "      <td>4.94</td>\n",
       "      <td>6.01</td>\n",
       "      <td>6.12</td>\n",
       "      <td>8.06</td>\n",
       "    </tr>\n",
       "    <tr>\n",
       "      <th>3</th>\n",
       "      <td>4</td>\n",
       "      <td>7.04</td>\n",
       "      <td>7.09</td>\n",
       "      <td>8.01</td>\n",
       "      <td>8.22</td>\n",
       "    </tr>\n",
       "    <tr>\n",
       "      <th>4</th>\n",
       "      <td>5</td>\n",
       "      <td>8.26</td>\n",
       "      <td>7.91</td>\n",
       "      <td>7.19</td>\n",
       "      <td>8.13</td>\n",
       "    </tr>\n",
       "  </tbody>\n",
       "</table>\n",
       "</div>"
      ],
      "text/plain": [
       "   Trial  Valence  Arousal  Dominance  Liking\n",
       "0      1     6.96     3.92       7.19    6.05\n",
       "1      2     7.23     7.15       6.94    8.01\n",
       "2      3     4.94     6.01       6.12    8.06\n",
       "3      4     7.04     7.09       8.01    8.22\n",
       "4      5     8.26     7.91       7.19    8.13"
      ]
     },
     "execution_count": 2,
     "metadata": {},
     "output_type": "execute_result"
    }
   ],
   "source": [
    "y = pd.read_csv(\"za_klasifikaciju.csv\")\n",
    "del y['Participant_id']\n",
    "\n",
    "y.head(5)"
   ]
  },
  {
   "cell_type": "markdown",
   "metadata": {},
   "source": [
    "# Import Feats"
   ]
  },
  {
   "cell_type": "code",
   "execution_count": 41,
   "metadata": {},
   "outputs": [
    {
     "data": {
      "text/html": [
       "<div>\n",
       "<style scoped>\n",
       "    .dataframe tbody tr th:only-of-type {\n",
       "        vertical-align: middle;\n",
       "    }\n",
       "\n",
       "    .dataframe tbody tr th {\n",
       "        vertical-align: top;\n",
       "    }\n",
       "\n",
       "    .dataframe thead th {\n",
       "        text-align: right;\n",
       "    }\n",
       "</style>\n",
       "<table border=\"1\" class=\"dataframe\">\n",
       "  <thead>\n",
       "    <tr style=\"text-align: right;\">\n",
       "      <th></th>\n",
       "      <th>mean_gsr</th>\n",
       "      <th>std_gsr</th>\n",
       "      <th>1st derivative mean_gsr</th>\n",
       "      <th>2nd derivative mean_gsr</th>\n",
       "      <th>LP mean_gsr</th>\n",
       "      <th>LP std_gsr</th>\n",
       "      <th>LP 1st deriv mean_gsr</th>\n",
       "      <th>LP 2nd deriv mean_gsr</th>\n",
       "      <th>ZCR LP_gsr</th>\n",
       "      <th>ZCR VLP_gsr</th>\n",
       "      <th>...</th>\n",
       "      <th>beta_PSD_Fp2</th>\n",
       "      <th>activity_Fp2</th>\n",
       "      <th>mobility_Fp2</th>\n",
       "      <th>complexity_Fp2</th>\n",
       "      <th>alpha_energy_Fp2</th>\n",
       "      <th>beta_energy_Fp2</th>\n",
       "      <th>gamma_energy_Fp2</th>\n",
       "      <th>alpha_ree_Fp2</th>\n",
       "      <th>beta_ree_Fp2</th>\n",
       "      <th>gamma_ree_Fp2</th>\n",
       "    </tr>\n",
       "  </thead>\n",
       "  <tbody>\n",
       "    <tr>\n",
       "      <th>0</th>\n",
       "      <td>-0.394177</td>\n",
       "      <td>-0.853043</td>\n",
       "      <td>-0.318445</td>\n",
       "      <td>-0.622953</td>\n",
       "      <td>-0.209031</td>\n",
       "      <td>-0.786299</td>\n",
       "      <td>-0.339382</td>\n",
       "      <td>0.361181</td>\n",
       "      <td>-0.103473</td>\n",
       "      <td>0.074744</td>\n",
       "      <td>...</td>\n",
       "      <td>-0.710536</td>\n",
       "      <td>-0.848122</td>\n",
       "      <td>0.503444</td>\n",
       "      <td>-0.258046</td>\n",
       "      <td>-1.298534</td>\n",
       "      <td>-0.515310</td>\n",
       "      <td>-0.634903</td>\n",
       "      <td>-1.412771</td>\n",
       "      <td>1.891417</td>\n",
       "      <td>0.148131</td>\n",
       "    </tr>\n",
       "    <tr>\n",
       "      <th>1</th>\n",
       "      <td>-0.833062</td>\n",
       "      <td>-0.188345</td>\n",
       "      <td>-0.647861</td>\n",
       "      <td>-0.903261</td>\n",
       "      <td>-0.658657</td>\n",
       "      <td>-0.524978</td>\n",
       "      <td>-0.626322</td>\n",
       "      <td>0.470784</td>\n",
       "      <td>-0.931256</td>\n",
       "      <td>-2.914997</td>\n",
       "      <td>...</td>\n",
       "      <td>-0.624605</td>\n",
       "      <td>-0.380905</td>\n",
       "      <td>-0.905923</td>\n",
       "      <td>0.794150</td>\n",
       "      <td>-0.090758</td>\n",
       "      <td>-0.488023</td>\n",
       "      <td>-0.220959</td>\n",
       "      <td>0.412681</td>\n",
       "      <td>-0.498811</td>\n",
       "      <td>-0.135638</td>\n",
       "    </tr>\n",
       "    <tr>\n",
       "      <th>2</th>\n",
       "      <td>-2.949972</td>\n",
       "      <td>2.642031</td>\n",
       "      <td>-2.920647</td>\n",
       "      <td>-2.595122</td>\n",
       "      <td>-3.212105</td>\n",
       "      <td>2.354718</td>\n",
       "      <td>-2.848762</td>\n",
       "      <td>3.306429</td>\n",
       "      <td>-0.103473</td>\n",
       "      <td>1.569614</td>\n",
       "      <td>...</td>\n",
       "      <td>-0.049992</td>\n",
       "      <td>-0.184270</td>\n",
       "      <td>-0.789268</td>\n",
       "      <td>0.219589</td>\n",
       "      <td>0.935582</td>\n",
       "      <td>0.504392</td>\n",
       "      <td>-0.357287</td>\n",
       "      <td>1.043153</td>\n",
       "      <td>-0.814343</td>\n",
       "      <td>-1.111112</td>\n",
       "    </tr>\n",
       "    <tr>\n",
       "      <th>3</th>\n",
       "      <td>0.169623</td>\n",
       "      <td>-0.495352</td>\n",
       "      <td>0.217965</td>\n",
       "      <td>0.183080</td>\n",
       "      <td>0.398396</td>\n",
       "      <td>-0.448091</td>\n",
       "      <td>0.220651</td>\n",
       "      <td>-0.218379</td>\n",
       "      <td>-0.517364</td>\n",
       "      <td>0.822179</td>\n",
       "      <td>...</td>\n",
       "      <td>-0.724771</td>\n",
       "      <td>0.180810</td>\n",
       "      <td>-1.154847</td>\n",
       "      <td>1.626979</td>\n",
       "      <td>-0.796417</td>\n",
       "      <td>-0.850704</td>\n",
       "      <td>-0.325180</td>\n",
       "      <td>-0.344244</td>\n",
       "      <td>0.290749</td>\n",
       "      <td>0.328797</td>\n",
       "    </tr>\n",
       "  </tbody>\n",
       "</table>\n",
       "<p>4 rows × 1490 columns</p>\n",
       "</div>"
      ],
      "text/plain": [
       "   mean_gsr   std_gsr  1st derivative mean_gsr  2nd derivative mean_gsr  \\\n",
       "0 -0.394177 -0.853043                -0.318445                -0.622953   \n",
       "1 -0.833062 -0.188345                -0.647861                -0.903261   \n",
       "2 -2.949972  2.642031                -2.920647                -2.595122   \n",
       "3  0.169623 -0.495352                 0.217965                 0.183080   \n",
       "\n",
       "   LP mean_gsr  LP std_gsr  LP 1st deriv mean_gsr  LP 2nd deriv mean_gsr  \\\n",
       "0    -0.209031   -0.786299              -0.339382               0.361181   \n",
       "1    -0.658657   -0.524978              -0.626322               0.470784   \n",
       "2    -3.212105    2.354718              -2.848762               3.306429   \n",
       "3     0.398396   -0.448091               0.220651              -0.218379   \n",
       "\n",
       "   ZCR LP_gsr  ZCR VLP_gsr  ...  beta_PSD_Fp2  activity_Fp2  mobility_Fp2  \\\n",
       "0   -0.103473     0.074744  ...     -0.710536     -0.848122      0.503444   \n",
       "1   -0.931256    -2.914997  ...     -0.624605     -0.380905     -0.905923   \n",
       "2   -0.103473     1.569614  ...     -0.049992     -0.184270     -0.789268   \n",
       "3   -0.517364     0.822179  ...     -0.724771      0.180810     -1.154847   \n",
       "\n",
       "   complexity_Fp2  alpha_energy_Fp2  beta_energy_Fp2  gamma_energy_Fp2  \\\n",
       "0       -0.258046         -1.298534        -0.515310         -0.634903   \n",
       "1        0.794150         -0.090758        -0.488023         -0.220959   \n",
       "2        0.219589          0.935582         0.504392         -0.357287   \n",
       "3        1.626979         -0.796417        -0.850704         -0.325180   \n",
       "\n",
       "   alpha_ree_Fp2  beta_ree_Fp2  gamma_ree_Fp2  \n",
       "0      -1.412771      1.891417       0.148131  \n",
       "1       0.412681     -0.498811      -0.135638  \n",
       "2       1.043153     -0.814343      -1.111112  \n",
       "3      -0.344244      0.290749       0.328797  \n",
       "\n",
       "[4 rows x 1490 columns]"
      ]
     },
     "execution_count": 41,
     "metadata": {},
     "output_type": "execute_result"
    }
   ],
   "source": [
    "features = pd.read_csv(\"all_features.csv\")\n",
    "features = features.fillna(0) # replace NaN values with zeros\n",
    "\n",
    "features.head(4)"
   ]
  },
  {
   "cell_type": "code",
   "execution_count": 42,
   "metadata": {},
   "outputs": [
    {
     "data": {
      "text/plain": [
       "(1280, 1490)"
      ]
     },
     "execution_count": 42,
     "metadata": {},
     "output_type": "execute_result"
    }
   ],
   "source": [
    "features.shape"
   ]
  },
  {
   "cell_type": "code",
   "execution_count": 43,
   "metadata": {},
   "outputs": [],
   "source": [
    "y_axis = y['Valence'].copy()\n",
    "# Binary classification, 1-high, 0-low\n",
    "y_axis[y_axis < 4.5] = 0\n",
    "y_axis[y_axis >= 4.5] = 1"
   ]
  },
  {
   "cell_type": "markdown",
   "metadata": {},
   "source": [
    "# Feature selection using RFE"
   ]
  },
  {
   "cell_type": "code",
   "execution_count": 44,
   "metadata": {},
   "outputs": [],
   "source": [
    "estimator = SVC(kernel = \"linear\")\n",
    "selector = RFE(estimator, n_features_to_select = 200, step = 100) # tried 100,200,300 feats\n",
    "selector = selector.fit(features, y_axis)"
   ]
  },
  {
   "cell_type": "code",
   "execution_count": 45,
   "metadata": {},
   "outputs": [
    {
     "data": {
      "text/plain": [
       "(1280, 200)"
      ]
     },
     "execution_count": 45,
     "metadata": {},
     "output_type": "execute_result"
    }
   ],
   "source": [
    "# features.columns.values[selector.support_] # which features were chosen\n",
    "features = features.to_numpy()\n",
    "sel_feats = features[:,selector.support_]\n",
    "np.shape(sel_feats)"
   ]
  },
  {
   "cell_type": "markdown",
   "metadata": {},
   "source": [
    "# Cross Val - GridSearchCV"
   ]
  },
  {
   "cell_type": "code",
   "execution_count": 46,
   "metadata": {},
   "outputs": [
    {
     "name": "stdout",
     "output_type": "stream",
     "text": [
      "0.6319865067466267\n"
     ]
    }
   ],
   "source": [
    "x_train, x_test, y_train, y_test = train_test_split(sel_feats, y_axis, test_size = 0.1, random_state = 999, shuffle = True, stratify = y_axis)\n",
    "\n",
    "param_grid = {'C': [0.1, 1, 10, 100], 'gamma': [1,0.1,0.01,0.001], 'kernel': ['rbf', 'poly', 'sigmoid']}\n",
    "optimal_params = GridSearchCV(SVC(), param_grid, scoring = 'accuracy', cv = 10, verbose = 0)\n",
    "optimal_params.fit(x_train, y_train)\n",
    "print(optimal_params.best_score_)"
   ]
  },
  {
   "cell_type": "code",
   "execution_count": 47,
   "metadata": {},
   "outputs": [
    {
     "name": "stdout",
     "output_type": "stream",
     "text": [
      "{'C': 10, 'gamma': 0.001, 'kernel': 'rbf'}\n"
     ]
    }
   ],
   "source": [
    "print(optimal_params.best_params_)"
   ]
  },
  {
   "cell_type": "code",
   "execution_count": 54,
   "metadata": {},
   "outputs": [
    {
     "name": "stdout",
     "output_type": "stream",
     "text": [
      "0.6475937031484258\n"
     ]
    }
   ],
   "source": [
    "# For linear model (adventage - RFE used with the linear kernel)\n",
    "param_grid = {'C': [0.01, 0.1, 1, 5], 'kernel': ['linear']}\n",
    "optimal_params = GridSearchCV(SVC(), param_grid, scoring = 'accuracy', cv = 10, verbose = 0)\n",
    "optimal_params.fit(x_train, y_train)\n",
    "print(optimal_params.best_score_)"
   ]
  },
  {
   "cell_type": "code",
   "execution_count": 55,
   "metadata": {},
   "outputs": [
    {
     "name": "stdout",
     "output_type": "stream",
     "text": [
      "{'C': 5, 'kernel': 'linear'}\n"
     ]
    }
   ],
   "source": [
    "print(optimal_params.best_params_)"
   ]
  },
  {
   "cell_type": "code",
   "execution_count": 56,
   "metadata": {},
   "outputs": [],
   "source": [
    "# svm = SVC(C = 0.1, kernel = 'linear')\n",
    "# svm.fit(x_train, y_train)\n",
    "\n",
    "# y_pred = svm.predict(x_test)\n",
    "# accuracy_score(y_test, y_pred)"
   ]
  },
  {
   "cell_type": "markdown",
   "metadata": {},
   "source": [
    "# 10-fold CrossVal"
   ]
  },
  {
   "cell_type": "code",
   "execution_count": 61,
   "metadata": {},
   "outputs": [
    {
     "name": "stdout",
     "output_type": "stream",
     "text": [
      "0.6640625\n",
      "0.59375\n",
      "0.65625\n",
      "0.71875\n",
      "0.65625\n",
      "0.671875\n",
      "0.6328125\n",
      "0.6875\n",
      "0.6875\n",
      "0.6484375\n"
     ]
    }
   ],
   "source": [
    "s_kf = StratifiedKFold(n_splits = 10) # no shuffle\n",
    "svm = SVC(C = 1, kernel = 'linear')\n",
    "\n",
    "# best_score_val = 0\n",
    "acc_array = []\n",
    "conf_mat = np.zeros((2, 2)) # summing up confusion matrices for 10-folds\n",
    "for train, test in s_kf.split(sel_feats, y_axis):\n",
    "#     iter_score = svm.fit(sel_feats[train], y_axis[train]).score(sel_feats[test], y_axis[test])\n",
    "    svm_fitt = svm.fit(sel_feats[train], y_axis[train])\n",
    "    iter_score = svm_fitt.score(sel_feats[test], y_axis[test])\n",
    "    conf_mat = conf_mat + confusion_matrix(y_axis[test], svm_fitt.predict(sel_feats[test]))\n",
    "    print(iter_score)\n",
    "    acc_array.append(iter_score)\n",
    "#     if iter_score > best_score_val:\n",
    "#         best_score_val = iter_score\n",
    "#         best_train_ind = train\n",
    "#         best_test_ind = test"
   ]
  },
  {
   "cell_type": "markdown",
   "metadata": {},
   "source": [
    "# Average confusion matrix for 10folds"
   ]
  },
  {
   "cell_type": "code",
   "execution_count": 62,
   "metadata": {},
   "outputs": [
    {
     "name": "stdout",
     "output_type": "stream",
     "text": [
      "[[220. 252.]\n",
      " [181. 627.]]\n"
     ]
    }
   ],
   "source": [
    "# X_train = sel_feats[best_train_ind]\n",
    "# X_test = sel_feats[best_test_ind]\n",
    "# y_train = y_axis[best_train_ind]\n",
    "# y_test = y_axis[best_test_ind]\n",
    "# svm = SVC(C = 1, kernel = 'linear')\n",
    "# svm.fit(X_train, y_train)\n",
    "# y_pred = svm.predict(X_test)\n",
    "# cm = confusion_matrix(y_test, y_pred, labels = svm.classes_)\n",
    "# print(cm)\n",
    "print(conf_mat)"
   ]
  },
  {
   "cell_type": "markdown",
   "metadata": {},
   "source": [
    "# Mean accuracy for 10 folds"
   ]
  },
  {
   "cell_type": "code",
   "execution_count": 2,
   "metadata": {},
   "outputs": [],
   "source": [
    "print(\"Mean Accuracy for Valence = {:.2f}\".format(np.mean(acc_array)))\n",
    "print(\" with standard deviation = {:.2f}\".format(np.std(acc_array)))\n",
    "\n",
    "\n",
    "prec = cm[1,1]/(cm[1,1] + cm[0,1])\n",
    "recall = cm[1,1]/(cm[1,1] + cm[1,0])\n",
    "# prec = cm[0,0]/(cm[0,0] + cm[1,0])\n",
    "# recall = cm[0,0]/(cm[0,0] + cm[0,1])\n",
    "f1_score = 2*(prec*recall/(prec + recall))"
   ]
  },
  {
   "cell_type": "code",
   "execution_count": null,
   "metadata": {},
   "outputs": [],
   "source": []
  }
 ],
 "metadata": {
  "kernelspec": {
   "display_name": "Python 3",
   "language": "python",
   "name": "python3"
  },
  "language_info": {
   "codemirror_mode": {
    "name": "ipython",
    "version": 3
   },
   "file_extension": ".py",
   "mimetype": "text/x-python",
   "name": "python",
   "nbconvert_exporter": "python",
   "pygments_lexer": "ipython3",
   "version": "3.6.5"
  }
 },
 "nbformat": 4,
 "nbformat_minor": 2
}
