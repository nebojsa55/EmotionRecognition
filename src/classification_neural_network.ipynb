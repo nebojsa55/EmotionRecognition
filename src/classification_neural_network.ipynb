{
 "metadata": {
  "language_info": {
   "codemirror_mode": {
    "name": "ipython",
    "version": 3
   },
   "file_extension": ".py",
   "mimetype": "text/x-python",
   "name": "python",
   "nbconvert_exporter": "python",
   "pygments_lexer": "ipython3",
   "version": "3.8.6-final"
  },
  "orig_nbformat": 2,
  "kernelspec": {
   "name": "python3",
   "display_name": "Python 3",
   "language": "python"
  }
 },
 "nbformat": 4,
 "nbformat_minor": 2,
 "cells": [
  {
   "cell_type": "code",
   "execution_count": 3,
   "metadata": {},
   "outputs": [],
   "source": [
    "import pandas as pd\n",
    "import numpy as np\n",
    "import matplotlib.pyplot as plt"
   ]
  },
  {
   "cell_type": "code",
   "execution_count": 45,
   "metadata": {},
   "outputs": [],
   "source": [
    "features = pd.read_csv(\"valence_features_100.csv\", index_col=0)\n",
    "targets = pd.read_csv(\"valence_targets.csv\", index_col=0)"
   ]
  },
  {
   "source": [
    "from sklearn.model_selection import cross_val_score\n",
    "from sklearn.model_selection import cross_validate"
   ],
   "cell_type": "markdown",
   "metadata": {}
  },
  {
   "cell_type": "code",
   "execution_count": 20,
   "metadata": {},
   "outputs": [],
   "source": [
    "from sklearn.metrics import accuracy_score, f1_score, roc_auc_score"
   ]
  },
  {
   "source": [
    "# Standardizacija"
   ],
   "cell_type": "markdown",
   "metadata": {}
  },
  {
   "source": [
    "from sklearn.preprocessing import StandardScaler\n",
    "\n",
    "scaler = StandardScaler()"
   ],
   "cell_type": "markdown",
   "metadata": {}
  },
  {
   "source": [
    "features_std = scaler.fit_transform(features)"
   ],
   "cell_type": "markdown",
   "metadata": {}
  },
  {
   "source": [
    "from sklearn.preprocessing import normalize"
   ],
   "cell_type": "code",
   "metadata": {},
   "execution_count": 23,
   "outputs": []
  },
  {
   "source": [
    "features_norm = normalize(features, axis=0)"
   ],
   "cell_type": "code",
   "metadata": {},
   "execution_count": 24,
   "outputs": []
  },
  {
   "source": [
    "from sklearn.model_selection import train_test_split"
   ],
   "cell_type": "code",
   "metadata": {},
   "execution_count": 25,
   "outputs": []
  },
  {
   "cell_type": "code",
   "execution_count": 26,
   "metadata": {},
   "outputs": [],
   "source": [
    "#x_train_std, x_test_std, y_train, y_test = train_test_split(features_std, diabetes, test_size=0.1)\n",
    "x_train, x_test, y_train, y_test = train_test_split(features_norm, targets, test_size=0.1, stratify=targets)"
   ]
  },
  {
   "source": [],
   "cell_type": "markdown",
   "metadata": {}
  },
  {
   "source": [
    "# Torch"
   ],
   "cell_type": "markdown",
   "metadata": {}
  },
  {
   "cell_type": "code",
   "execution_count": 11,
   "metadata": {},
   "outputs": [],
   "source": [
    "import torch\n",
    "from torch.utils.data import DataLoader\n",
    "import os\n",
    "import torch.nn as nn\n",
    "import time\n",
    "import copy\n",
    "from torch.optim import lr_scheduler"
   ]
  },
  {
   "cell_type": "code",
   "execution_count": 12,
   "metadata": {},
   "outputs": [],
   "source": [
    "from torch.utils.data import Dataset, random_split"
   ]
  },
  {
   "cell_type": "code",
   "execution_count": 56,
   "metadata": {},
   "outputs": [],
   "source": [
    "class EmotionsDataset(Dataset):\n",
    "\n",
    "    def __init__(self, features, classes):\n",
    "        #self.x = features.to_numpy()\n",
    "        self.x = features\n",
    "        self.y = classes.to_numpy()\n",
    "\n",
    "    def __len__(self):\n",
    "        return len(self.y)\n",
    "\n",
    "    def __getitem__(self, idx):\n",
    "        return [torch.from_numpy(self.x[idx,:]), torch.from_numpy(self.y[idx])]"
   ]
  },
  {
   "cell_type": "code",
   "execution_count": 57,
   "metadata": {},
   "outputs": [],
   "source": [
    "device = torch.device('cuda:0' if torch.cuda.is_available() else 'cpu')"
   ]
  },
  {
   "cell_type": "code",
   "execution_count": 58,
   "metadata": {
    "tags": []
   },
   "outputs": [],
   "source": [
    "from sklearn.model_selection import StratifiedKFold\n",
    "torch.manual_seed(999)\n",
    "\n",
    "def crossval_train(x, y, num_epochs, learning_rate, batch_size, num_classes, n_folds):\n",
    "\n",
    "    skf = StratifiedKFold(n_splits=n_folds, random_state=999, shuffle=True)\n",
    "    i_fold = 0\n",
    "    best_acc = np.zeros(n_folds)\n",
    "\n",
    "    start = time.time()\n",
    "\n",
    "    for train_index, test_index in skf.split(x, y):\n",
    "\n",
    "        #x_tr, x_val = x.iloc[train_index, :], x.iloc[test_index, :]\n",
    "        x_tr, x_val = x[train_index, :], x[test_index, :]\n",
    "        y_tr, y_val = y.iloc[train_index], y.iloc[test_index]\n",
    "\n",
    "        train_set = EmotionsDataset(x_tr, y_tr)\n",
    "        val_set = EmotionsDataset(x_val, y_val)\n",
    "\n",
    "        #labels_weights = [1, 0.5]\n",
    "        #weights_train = [labels_weights[int(yy)] for yy in y_tr]\n",
    "        #weights_val = [labels_weights[int(yy)] for yy in y_val]\n",
    "        #sampler_train = torch.utils.data.sampler.WeightedRandomSampler(weights_train, len(weights_train))\n",
    "        #sampler_val = torch.utils.data.sampler.WeightedRandomSampler(weights_val, len(weights_val))\n",
    "\n",
    "        train_loader = DataLoader(train_set, batch_size)\n",
    "        val_loader = DataLoader(val_set, batch_size)\n",
    "\n",
    "        data_loader = {'train':train_loader, 'val':val_loader}\n",
    "    \n",
    "        model = GospodinKlasifikator(num_classes).to(device)\n",
    "\n",
    "        criterion = nn.BCELoss()\n",
    "        optimizer = torch.optim.Adam(model.parameters(), lr = learning_rate)\n",
    "        scheduler = lr_scheduler.StepLR(optimizer, step_size=5, gamma=0.5)\n",
    "\n",
    "\n",
    "        running_loss = 0.0\n",
    "\n",
    "        for epoch in range(num_epochs):\n",
    "\n",
    "            for phase in ['train', 'val']:\n",
    "                if phase == 'train':\n",
    "                    model.train()\n",
    "                else:\n",
    "                    model.eval()\n",
    "\n",
    "                running_loss = 0.0   \n",
    "                running_tp = 0 \n",
    "                running_acc = 0\n",
    "        \n",
    "                for i, (inputs, labels) in enumerate(data_loader[phase]):\n",
    "                    inputs = inputs.to(device)\n",
    "                    labels = labels.to(device)\n",
    "\n",
    "                    with torch.set_grad_enabled(phase=='train'):\n",
    "                        #forward\n",
    "                        output = model(inputs.float())\n",
    "                        preds = output[:, 1]\n",
    "                        loss = criterion(preds.float(), labels.float()[:, 0])\n",
    "\n",
    "                        #backward\n",
    "                        optimizer.zero_grad()\n",
    "                        if phase == 'train':\n",
    "                            loss.backward()\n",
    "                            optimizer.step()\n",
    "                \n",
    "                \n",
    "                    preds[preds<0.5] = 0\n",
    "                    preds[preds>=0.5] = 1\n",
    "                    running_loss += loss.item()*labels.shape[0]\n",
    "                    running_acc += accuracy_score(labels, preds.detach())\n",
    "\n",
    "                if phase == 'train':\n",
    "                    scheduler.step()\n",
    "\n",
    "                epoch_loss = running_loss/len(data_loader[phase])\n",
    "                epoch_acc = running_acc/len(data_loader[phase])\n",
    "\n",
    "\n",
    "            if phase == 'val' and epoch_acc>best_acc[i_fold]:\n",
    "                best_acc[i_fold] = epoch_acc\n",
    "                best_model = copy.deepcopy(model.state_dict())\n",
    "\n",
    "        \n",
    "        print('-'*40)\n",
    "        print('Best validation accuracy: {:.3f}, fold {}'.format(best_acc[i_fold], i_fold))\n",
    "        i_fold += 1\n",
    "\n",
    "    t = time.time()-start\n",
    "    print('-'*40)\n",
    "    print('Time to completion: {:.0f}min {:.0f}sec'.format(t//60, t%60))\n",
    "    print('Crossvalidation accuracy: mean = {:.4f}, std = {:.4f}'.format(np.mean(best_acc), np.std(best_acc)))\n",
    "\n",
    "    return best_model"
   ]
  },
  {
   "cell_type": "code",
   "execution_count": 92,
   "metadata": {},
   "outputs": [],
   "source": [
    "class GospodinKlasifikator(nn.Module):\n",
    "\n",
    "  def __init__(self, num_classes):\n",
    "    super().__init__()\n",
    "\n",
    "    self.layer1 = nn.Linear(98, 60)\n",
    "    self.layer2 = nn.Linear(60, 30)\n",
    "    self.relu = nn.LeakyReLU()\n",
    "    self.bn12 = nn.BatchNorm1d(60)\n",
    "    self.lastlayer = nn.Linear(30, num_classes)\n",
    "    self.dropout = nn.Dropout(0.5)\n",
    "\n",
    "  def forward(self, input):\n",
    "\n",
    "    out1 = self.layer1(input)\n",
    "    \n",
    "    out = self.relu(out1)\n",
    "    out = self.bn12(out)\n",
    "    out = self.dropout(out)\n",
    "    out = self.layer2(out)\n",
    "    \n",
    "    \n",
    "    out = self.relu(out)\n",
    "   # out = self.dropout(out)\n",
    "    #out = out.reshape(out.size(0), -1)\n",
    "    out = self.lastlayer(out)\n",
    "    out = torch.sigmoid(out)\n",
    "\n",
    "    return out"
   ]
  },
  {
   "cell_type": "code",
   "execution_count": 93,
   "metadata": {},
   "outputs": [],
   "source": [
    "num_epochs = 50\n",
    "num_classes = 2\n",
    "batch_size = 64\n",
    "learning_rate = 0.02\n",
    "n_folds = 7"
   ]
  },
  {
   "cell_type": "code",
   "execution_count": 94,
   "metadata": {},
   "outputs": [
    {
     "output_type": "stream",
     "name": "stdout",
     "text": [
      "----------------------------------------\n",
      "Best validation accuracy: 0.659, fold 0\n",
      "----------------------------------------\n",
      "Best validation accuracy: 0.627, fold 1\n",
      "----------------------------------------\n",
      "Best validation accuracy: 0.639, fold 2\n",
      "----------------------------------------\n",
      "Best validation accuracy: 0.625, fold 3\n",
      "----------------------------------------\n",
      "Best validation accuracy: 0.639, fold 4\n",
      "----------------------------------------\n",
      "Best validation accuracy: 0.611, fold 5\n",
      "----------------------------------------\n",
      "Best validation accuracy: 0.653, fold 6\n",
      "----------------------------------------\n",
      "Time to completion: 0min 42sec\n",
      "Crossvalidation accuracy: mean = 0.6361, std = 0.0156\n"
     ]
    }
   ],
   "source": [
    "best_model = crossval_train(x_train, y_train, num_epochs, learning_rate, batch_size, num_classes, n_folds)"
   ]
  },
  {
   "cell_type": "code",
   "execution_count": 95,
   "metadata": {},
   "outputs": [],
   "source": [
    "model = GospodinKlasifikator(num_classes).to(device)\n",
    "model.eval()\n",
    "model.load_state_dict(best_model)\n",
    "\n",
    "#predicted = model(torch.from_numpy(x_test.to_numpy()).float())\n",
    "predicted = model(torch.from_numpy(x_test).float())"
   ]
  },
  {
   "cell_type": "code",
   "execution_count": 96,
   "metadata": {},
   "outputs": [],
   "source": [
    "y_pred = np.array(predicted[:, 1].detach())\n",
    "y_pred[y_pred<0.5] = 0\n",
    "y_pred[y_pred>=0.5] = 1"
   ]
  },
  {
   "cell_type": "code",
   "execution_count": 97,
   "metadata": {},
   "outputs": [
    {
     "output_type": "stream",
     "name": "stdout",
     "text": [
      "Test set accuracy: 0.641\nTest set F1 score: 0.772\n"
     ]
    }
   ],
   "source": [
    "print(\"Test set accuracy: {:.3f}\".format(accuracy_score(y_test, y_pred)))\n",
    "print(\"Test set F1 score: {:.3f}\".format(f1_score(y_test, y_pred)))"
   ]
  },
  {
   "cell_type": "code",
   "execution_count": 98,
   "metadata": {},
   "outputs": [
    {
     "output_type": "execute_result",
     "data": {
      "text/plain": [
       "array([1., 1., 1., 1., 0., 1., 1., 1., 1., 1., 1., 1., 0., 1., 1., 1., 1.,\n",
       "       1., 0., 1., 1., 1., 1., 1., 1., 1., 1., 1., 1., 1., 1., 1., 1., 1.,\n",
       "       1., 1., 1., 1., 1., 1., 1., 1., 1., 1., 1., 1., 1., 1., 1., 1., 1.,\n",
       "       0., 1., 1., 1., 1., 1., 1., 1., 1., 1., 1., 1., 1., 1., 1., 0., 1.,\n",
       "       1., 1., 1., 1., 1., 1., 1., 1., 1., 1., 1., 1., 1., 1., 1., 1., 1.,\n",
       "       1., 0., 1., 1., 1., 1., 1., 1., 1., 1., 1., 1., 1., 1., 1., 1., 1.,\n",
       "       1., 1., 1., 1., 1., 1., 1., 1., 1., 1., 1., 1., 1., 1., 0., 1., 1.,\n",
       "       1., 1., 1., 1., 1., 1., 1., 1., 1.], dtype=float32)"
      ]
     },
     "metadata": {},
     "execution_count": 98
    }
   ],
   "source": [
    "y_pred"
   ]
  },
  {
   "cell_type": "code",
   "execution_count": 99,
   "metadata": {},
   "outputs": [],
   "source": [
    "from sklearn.metrics import confusion_matrix"
   ]
  },
  {
   "cell_type": "code",
   "execution_count": 100,
   "metadata": {},
   "outputs": [
    {
     "output_type": "stream",
     "name": "stdout",
     "text": [
      "[[ 4 43]\n [ 3 78]]\n"
     ]
    }
   ],
   "source": [
    "print(confusion_matrix(y_test, y_pred))"
   ]
  },
  {
   "cell_type": "code",
   "execution_count": null,
   "metadata": {},
   "outputs": [],
   "source": []
  }
 ]
}