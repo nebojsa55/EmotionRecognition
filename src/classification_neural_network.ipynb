{
 "metadata": {
  "language_info": {
   "codemirror_mode": {
    "name": "ipython",
    "version": 3
   },
   "file_extension": ".py",
   "mimetype": "text/x-python",
   "name": "python",
   "nbconvert_exporter": "python",
   "pygments_lexer": "ipython3",
   "version": "3.8.6-final"
  },
  "orig_nbformat": 2,
  "kernelspec": {
   "name": "python3",
   "display_name": "Python 3",
   "language": "python"
  }
 },
 "nbformat": 4,
 "nbformat_minor": 2,
 "cells": [
  {
   "cell_type": "code",
   "execution_count": 7,
   "source": [
    "import pandas as pd\r\n",
    "import numpy as np\r\n",
    "import matplotlib.pyplot as plt\r\n",
    "from sklearn.metrics import accuracy_score, f1_score\r\n",
    "from sklearn.preprocessing import normalize\r\n",
    "from sklearn.model_selection import train_test_split\r\n",
    "from sklearn.model_selection import StratifiedKFold"
   ],
   "outputs": [],
   "metadata": {}
  },
  {
   "cell_type": "code",
   "execution_count": 4,
   "source": [
    "import torch\r\n",
    "from torch.utils.data import DataLoader\r\n",
    "import os\r\n",
    "import torch.nn as nn\r\n",
    "import time\r\n",
    "import copy\r\n",
    "from torch.optim import lr_scheduler\r\n",
    "from torch.utils.data import Dataset, random_split"
   ],
   "outputs": [],
   "metadata": {}
  },
  {
   "cell_type": "code",
   "execution_count": 2,
   "source": [
    "feats_val = pd.read_csv('valence_features_200.csv', index_col=0)\r\n",
    "feats_ar = pd.read_csv('arousal_features_200.csv', index_col=0)\r\n",
    "feats_dom = pd.read_csv('dominance_features_200.csv', index_col=0)\r\n",
    "feats_lik = pd.read_csv('liking_features_200.csv', index_col=0)\r\n",
    "\r\n",
    "targets = pd.read_csv('za_klasifikaciju.csv', index_col=0)"
   ],
   "outputs": [],
   "metadata": {}
  },
  {
   "cell_type": "code",
   "execution_count": null,
   "source": [
    "targets = targets[['Valence', 'Arousal', 'Dominance', 'Liking']]\r\n",
    "targets[targets < 4.5] = 0\r\n",
    "targets[targets >= 4.5] = 1"
   ],
   "outputs": [],
   "metadata": {}
  },
  {
   "cell_type": "markdown",
   "source": [
    "from sklearn.model_selection import cross_val_score\n",
    "from sklearn.model_selection import cross_validate"
   ],
   "metadata": {}
  },
  {
   "cell_type": "markdown",
   "source": [
    "from sklearn.preprocessing import StandardScaler\n",
    "\n",
    "scaler = StandardScaler()"
   ],
   "metadata": {}
  },
  {
   "cell_type": "markdown",
   "source": [
    "features_std = scaler.fit_transform(features)"
   ],
   "metadata": {}
  },
  {
   "cell_type": "code",
   "execution_count": 19,
   "source": [
    "class EmotionsDataset(Dataset):\r\n",
    "\r\n",
    "    def __init__(self, features, classes):\r\n",
    "        #self.x = features.to_numpy()\r\n",
    "        self.x = features\r\n",
    "        self.y = classes.to_numpy()\r\n",
    "\r\n",
    "    def __len__(self):\r\n",
    "        return len(self.y)\r\n",
    "\r\n",
    "    def __getitem__(self, idx):\r\n",
    "        return [torch.from_numpy(self.x[idx,:]), torch.tensor(self.y[idx])]"
   ],
   "outputs": [],
   "metadata": {}
  },
  {
   "cell_type": "code",
   "execution_count": 20,
   "source": [
    "device = torch.device('cuda:0' if torch.cuda.is_available() else 'cpu')"
   ],
   "outputs": [],
   "metadata": {}
  },
  {
   "cell_type": "code",
   "execution_count": 38,
   "source": [
    "torch.manual_seed(999)\r\n",
    "\r\n",
    "def crossval_train(x, y, num_epochs, learning_rate, batch_size, num_classes, n_folds, verbose=True):\r\n",
    "\r\n",
    "    skf = StratifiedKFold(n_splits=n_folds, random_state=999, shuffle=True)\r\n",
    "    i_fold = 0\r\n",
    "    best_acc = np.zeros(n_folds)\r\n",
    "    best_f1 = np.zeros(n_folds)\r\n",
    "\r\n",
    "    start = time.time()\r\n",
    "\r\n",
    "    for train_index, test_index in skf.split(x, y):\r\n",
    "\r\n",
    "        #x_tr, x_val = x.iloc[train_index, :], x.iloc[test_index, :]\r\n",
    "        x_tr, x_val = x[train_index, :], x[test_index, :]\r\n",
    "        y_tr, y_val = y.iloc[train_index], y.iloc[test_index]\r\n",
    "\r\n",
    "        train_set = EmotionsDataset(x_tr, y_tr)\r\n",
    "        val_set = EmotionsDataset(x_val, y_val)\r\n",
    "\r\n",
    "        #labels_weights = [1, 0.5]\r\n",
    "        #weights_train = [labels_weights[int(yy)] for yy in y_tr]\r\n",
    "        #weights_val = [labels_weights[int(yy)] for yy in y_val]\r\n",
    "        #sampler_train = torch.utils.data.sampler.WeightedRandomSampler(weights_train, len(weights_train))\r\n",
    "        #sampler_val = torch.utils.data.sampler.WeightedRandomSampler(weights_val, len(weights_val))\r\n",
    "\r\n",
    "        train_loader = DataLoader(train_set, batch_size)\r\n",
    "        val_loader = DataLoader(val_set, batch_size)\r\n",
    "\r\n",
    "        data_loader = {'train':train_loader, 'val':val_loader}\r\n",
    "    \r\n",
    "        model = GospodinKlasifikator(num_classes).to(device)\r\n",
    "\r\n",
    "        criterion = nn.BCELoss()\r\n",
    "        optimizer = torch.optim.Adam(model.parameters(), lr = learning_rate)\r\n",
    "        scheduler = lr_scheduler.StepLR(optimizer, step_size=5, gamma=0.5)\r\n",
    "\r\n",
    "\r\n",
    "        running_loss = 0.0\r\n",
    "\r\n",
    "        for epoch in range(num_epochs):\r\n",
    "\r\n",
    "            for phase in ['train', 'val']:\r\n",
    "                if phase == 'train':\r\n",
    "                    model.train()\r\n",
    "                else:\r\n",
    "                    model.eval()\r\n",
    "\r\n",
    "                running_loss = 0.0   \r\n",
    "                running_tp = 0 \r\n",
    "                running_acc = 0\r\n",
    "                running_f1 = 0\r\n",
    "        \r\n",
    "                for i, (inputs, labels) in enumerate(data_loader[phase]):\r\n",
    "                    inputs = inputs.to(device)\r\n",
    "                    labels = labels.to(device)\r\n",
    "\r\n",
    "                    with torch.set_grad_enabled(phase=='train'):\r\n",
    "                        #forward\r\n",
    "                        output = model(inputs.float())\r\n",
    "                        preds = output[:, 1]\r\n",
    "                        loss = criterion(preds.float(), labels.float()[:])\r\n",
    "\r\n",
    "                        #backward\r\n",
    "                        optimizer.zero_grad()\r\n",
    "                        if phase == 'train':\r\n",
    "                            loss.backward()\r\n",
    "                            optimizer.step()\r\n",
    "                \r\n",
    "                \r\n",
    "                    preds[preds<0.5] = 0\r\n",
    "                    preds[preds>=0.5] = 1\r\n",
    "                    running_loss += loss.item()*labels.shape[0]\r\n",
    "                    running_acc += accuracy_score(labels, preds.detach())\r\n",
    "                    running_f1 += f1_score(labels, preds.detach())\r\n",
    "\r\n",
    "                if phase == 'train':\r\n",
    "                    scheduler.step()\r\n",
    "\r\n",
    "                epoch_loss = running_loss/len(data_loader[phase])\r\n",
    "                epoch_acc = running_acc/len(data_loader[phase])\r\n",
    "                epoch_f1 = running_f1/len(data_loader[phase])\r\n",
    "\r\n",
    "\r\n",
    "            if phase == 'val' and epoch_acc>best_acc[i_fold]:\r\n",
    "                best_acc[i_fold] = epoch_acc\r\n",
    "                best_model = copy.deepcopy(model.state_dict())\r\n",
    "            if phase == 'val' and epoch_f1>best_f1[i_fold]:\r\n",
    "                best_f1[i_fold] = epoch_f1\r\n",
    "\r\n",
    "        if verbose:\r\n",
    "            print('-'*40)\r\n",
    "            print('Best validation accuracy: {:.3f}, fold {}'.format(best_acc[i_fold], i_fold))\r\n",
    "        i_fold += 1\r\n",
    "\r\n",
    "    t = time.time()-start\r\n",
    "    print('-'*40)\r\n",
    "    print('Time to completion: {:.0f}min {:.0f}sec'.format(t//60, t%60))\r\n",
    "    print('Crossvalidation accuracy: mean = {:.4f}, std = {:.4f}'.format(np.mean(best_acc), np.std(best_acc)))\r\n",
    "    print('Crossvalidation f1 score: mean = {:.4f}, std = {:.4f}'.format(np.mean(best_f1), np.std(best_f1)))\r\n",
    "\r\n",
    "    return best_model"
   ],
   "outputs": [],
   "metadata": {}
  },
  {
   "cell_type": "code",
   "execution_count": 37,
   "source": [
    "class GospodinKlasifikator(nn.Module):\r\n",
    "\r\n",
    "  def __init__(self, num_classes):\r\n",
    "    super().__init__()\r\n",
    "\r\n",
    "    self.layer1 = nn.Linear(data.shape[1], 60)\r\n",
    "    self.layer2 = nn.Linear(60, 30)\r\n",
    "    self.relu = nn.LeakyReLU()\r\n",
    "    self.bn12 = nn.BatchNorm1d(60)\r\n",
    "    self.lastlayer = nn.Linear(30, num_classes)\r\n",
    "    self.dropout = nn.Dropout(0.5)\r\n",
    "\r\n",
    "  def forward(self, input):\r\n",
    "\r\n",
    "    out1 = self.layer1(input)\r\n",
    "    \r\n",
    "    out = self.relu(out1)\r\n",
    "    out = self.bn12(out)\r\n",
    "    out = self.dropout(out)\r\n",
    "    out = self.layer2(out)\r\n",
    "    \r\n",
    "    \r\n",
    "    out = self.relu(out)\r\n",
    "   # out = self.dropout(out)\r\n",
    "    #out = out.reshape(out.size(0), -1)\r\n",
    "    out = self.lastlayer(out)\r\n",
    "    out = torch.sigmoid(out)\r\n",
    "\r\n",
    "    return out"
   ],
   "outputs": [],
   "metadata": {}
  },
  {
   "cell_type": "code",
   "execution_count": 26,
   "source": [
    "num_epochs = 50\r\n",
    "num_classes = 2\r\n",
    "batch_size = 64\r\n",
    "learning_rate = 0.02\r\n",
    "n_folds = 7"
   ],
   "outputs": [],
   "metadata": {}
  },
  {
   "cell_type": "markdown",
   "source": [
    "# Modelling"
   ],
   "metadata": {}
  },
  {
   "cell_type": "code",
   "execution_count": 39,
   "source": [
    "for c in ['Valence', 'Arousal', 'Dominance', 'Liking']:\r\n",
    "    \r\n",
    "    if c == 'Valence':\r\n",
    "        data = normalize(feats_val, axis=0)\r\n",
    "    elif c == 'Arousal':\r\n",
    "        data = normalize(feats_ar, axis=0)\r\n",
    "    elif c == 'Dominance':\r\n",
    "        data = normalize(feats_dom, axis=0)\r\n",
    "    elif c == 'Liking':\r\n",
    "        data = normalize(feats_lik, axis=0)\r\n",
    "\r\n",
    "    x_train, x_test, y_train, y_test = train_test_split(data, targets[c], test_size=0.2)\r\n",
    "    best_model = crossval_train(x_train, y_train, num_epochs, learning_rate, batch_size, num_classes, n_folds, False)\r\n",
    "    "
   ],
   "outputs": [
    {
     "output_type": "stream",
     "name": "stdout",
     "text": [
      "----------------------------------------\n",
      "Time to completion: 0min 38sec\n",
      "Crossvalidation accuracy: mean = 0.6431, std = 0.0248\n",
      "Crossvalidation f1 score: mean = 0.7791, std = 0.0198\n",
      "----------------------------------------\n",
      "Time to completion: 0min 40sec\n",
      "Crossvalidation accuracy: mean = 0.6457, std = 0.0129\n",
      "Crossvalidation f1 score: mean = 0.7832, std = 0.0100\n",
      "----------------------------------------\n",
      "Time to completion: 0min 39sec\n",
      "Crossvalidation accuracy: mean = 0.6597, std = 0.0210\n",
      "Crossvalidation f1 score: mean = 0.7928, std = 0.0162\n",
      "----------------------------------------\n",
      "Time to completion: 0min 38sec\n",
      "Crossvalidation accuracy: mean = 0.7116, std = 0.0087\n",
      "Crossvalidation f1 score: mean = 0.8249, std = 0.0076\n"
     ]
    }
   ],
   "metadata": {}
  },
  {
   "cell_type": "markdown",
   "source": [],
   "metadata": {}
  }
 ]
}