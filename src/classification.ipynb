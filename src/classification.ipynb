{
 "metadata": {
  "language_info": {
   "codemirror_mode": {
    "name": "ipython",
    "version": 3
   },
   "file_extension": ".py",
   "mimetype": "text/x-python",
   "name": "python",
   "nbconvert_exporter": "python",
   "pygments_lexer": "ipython3",
   "version": "3.7.6-final"
  },
  "orig_nbformat": 2,
  "kernelspec": {
   "name": "python3",
   "display_name": "Python 3",
   "language": "python"
  }
 },
 "nbformat": 4,
 "nbformat_minor": 2,
 "cells": [
  {
   "cell_type": "code",
   "execution_count": 1,
   "metadata": {},
   "outputs": [],
   "source": [
    "import numpy as np\n",
    "import pandas as pd\n",
    "import matplotlib.pyplot as plt"
   ]
  },
  {
   "cell_type": "code",
   "execution_count": 186,
   "metadata": {},
   "outputs": [],
   "source": [
    "data = pd.read_csv('valence_features.csv', index_col=0)\n",
    "targets = pd.read_csv('valence_targets.csv', index_col=0)"
   ]
  },
  {
   "cell_type": "code",
   "execution_count": 3,
   "metadata": {},
   "outputs": [],
   "source": [
    "from sklearn.metrics import accuracy_score, f1_score, roc_auc_score"
   ]
  },
  {
   "cell_type": "code",
   "execution_count": 175,
   "metadata": {},
   "outputs": [],
   "source": [
    "from sklearn.model_selection import train_test_split"
   ]
  },
  {
   "cell_type": "code",
   "execution_count": 187,
   "metadata": {},
   "outputs": [],
   "source": [
    "x_train, x_test, y_train, y_test = train_test_split(data, targets, test_size=0.1)"
   ]
  },
  {
   "source": [
    "## XGBoost"
   ],
   "cell_type": "markdown",
   "metadata": {}
  },
  {
   "cell_type": "code",
   "execution_count": 177,
   "metadata": {},
   "outputs": [],
   "source": [
    "import xgboost"
   ]
  },
  {
   "cell_type": "code",
   "execution_count": 188,
   "metadata": {},
   "outputs": [],
   "source": [
    "d_train = xgboost.DMatrix(x_train, y_train)\n",
    "d_test = xgboost.DMatrix(x_test, y_test)"
   ]
  },
  {
   "cell_type": "code",
   "execution_count": 195,
   "metadata": {},
   "outputs": [],
   "source": [
    "params = {\n",
    "    #'tree_method' : 'hist',\n",
    "    'max_depth' : 4,\n",
    "    #'max_leaves' : 20,\n",
    "    'objective' : 'binary:logistic',\n",
    "    #'grow_policy' : 'lossguide',\n",
    "    'eta' : 0.001,\n",
    "    'eval_metric': 'auc',\n",
    "    'subsample':0.7,\n",
    "    'colsample_bytree':0.3\n",
    "    }\n",
    "evallist = [(d_train, 'train'), (d_test, 'test')]\n",
    "num_round = 5000"
   ]
  },
  {
   "source": [
    "cv_train = xgboost.DMatrix(data, targets)"
   ],
   "cell_type": "code",
   "metadata": {},
   "execution_count": 190,
   "outputs": []
  },
  {
   "cell_type": "code",
   "execution_count": 191,
   "metadata": {},
   "outputs": [],
   "source": [
    "def acc_eval(predt, dtrain):\n",
    "    y = dtrain.get_label()\n",
    "    predt[predt<=0.5] = 0\n",
    "    predt[predt>0.5] = 1\n",
    "    \n",
    "    return 'accuracy', accuracy_score(y, predt)"
   ]
  },
  {
   "cell_type": "code",
   "execution_count": 118,
   "metadata": {},
   "outputs": [],
   "source": [
    "def f1_eval(predt, dtrain):\n",
    "    y = dtrain.get_label()\n",
    "    predt[predt<=0.5] = 0\n",
    "    predt[predt>0.5] = 1\n",
    "    \n",
    "    return 'f1_score', f1_score(y, predt)"
   ]
  },
  {
   "source": [
    "xgb_cv = xgboost.cv(dtrain=cv_train, params=params, nfold=10, num_boost_round=num_round, early_stopping_rounds=15, feval=acc_eval, seed=123, verbose_eval=1, maximize=True)"
   ],
   "cell_type": "code",
   "metadata": {
    "tags": []
   },
   "execution_count": 192,
   "outputs": [
    {
     "output_type": "stream",
     "name": "stdout",
     "text": [
      "[0]\ttrain-accuracy:0.647483+0.0079602\ttrain-auc:0.611983+0.0165142\ttest-accuracy:0.601562+0.057197\ttest-auc:0.519608+0.0524202\n",
      "[1]\ttrain-accuracy:0.662587+0.0072424\ttrain-auc:0.654418+0.0151534\ttest-accuracy:0.627344+0.040902\ttest-auc:0.523761+0.0686334\n",
      "[2]\ttrain-accuracy:0.663021+0.0062693\ttrain-auc:0.686896+0.0103867\ttest-accuracy:0.627344+0.0390703\ttest-auc:0.511566+0.0802787\n",
      "[3]\ttrain-accuracy:0.659549+0.00499855\ttrain-auc:0.713773+0.00744682\ttest-accuracy:0.634375+0.0398053\ttest-auc:0.521007+0.0634779\n",
      "[4]\ttrain-accuracy:0.656684+0.00434434\ttrain-auc:0.733769+0.00762009\ttest-accuracy:0.635156+0.0356389\ttest-auc:0.518383+0.0629294\n",
      "[5]\ttrain-accuracy:0.65599+0.0054493\ttrain-auc:0.750667+0.00882385\ttest-accuracy:0.632813+0.0373043\ttest-auc:0.51758+0.0636192\n",
      "[6]\ttrain-accuracy:0.653733+0.00472987\ttrain-auc:0.76579+0.010214\ttest-accuracy:0.63125+0.0355963\ttest-auc:0.522106+0.0594501\n",
      "[7]\ttrain-accuracy:0.652778+0.00562558\ttrain-auc:0.780374+0.0106551\ttest-accuracy:0.630469+0.0349474\ttest-auc:0.520641+0.0527914\n",
      "[8]\ttrain-accuracy:0.65026+0.00577699\ttrain-auc:0.789523+0.01244\ttest-accuracy:0.632031+0.0324853\ttest-auc:0.520215+0.0528077\n",
      "[9]\ttrain-accuracy:0.648958+0.00562832\ttrain-auc:0.79258+0.00820117\ttest-accuracy:0.632031+0.0328589\ttest-auc:0.513759+0.0476595\n",
      "[10]\ttrain-accuracy:0.647309+0.00384422\ttrain-auc:0.8005+0.00942284\ttest-accuracy:0.632812+0.0338742\ttest-auc:0.5146+0.0421979\n",
      "[11]\ttrain-accuracy:0.647396+0.00473562\ttrain-auc:0.808301+0.012874\ttest-accuracy:0.632812+0.0338742\ttest-auc:0.515687+0.0476978\n",
      "[12]\ttrain-accuracy:0.646528+0.00426687\ttrain-auc:0.81768+0.0109427\ttest-accuracy:0.632031+0.0335937\ttest-auc:0.511551+0.0552982\n",
      "[13]\ttrain-accuracy:0.644184+0.00325844\ttrain-auc:0.8223+0.0126168\ttest-accuracy:0.632812+0.0354588\ttest-auc:0.515116+0.0624739\n",
      "[14]\ttrain-accuracy:0.644618+0.00351966\ttrain-auc:0.82727+0.00972904\ttest-accuracy:0.632812+0.0347635\ttest-auc:0.525678+0.0611488\n",
      "[15]\ttrain-accuracy:0.643923+0.00353237\ttrain-auc:0.830562+0.0100466\ttest-accuracy:0.63125+0.034018\ttest-auc:0.524534+0.056412\n",
      "[16]\ttrain-accuracy:0.643837+0.00293199\ttrain-auc:0.836703+0.0126956\ttest-accuracy:0.629687+0.0337297\ttest-auc:0.520997+0.0548527\n",
      "[17]\ttrain-accuracy:0.64349+0.00315495\ttrain-auc:0.84049+0.0130891\ttest-accuracy:0.63125+0.0336573\ttest-auc:0.52072+0.0557694\n",
      "[18]\ttrain-accuracy:0.642448+0.00301809\ttrain-auc:0.846223+0.0139645\ttest-accuracy:0.630469+0.0324102\ttest-auc:0.523685+0.0532062\n",
      "[19]\ttrain-accuracy:0.642274+0.00286462\ttrain-auc:0.848685+0.0130858\ttest-accuracy:0.63125+0.0336573\ttest-auc:0.518433+0.0509321\n",
      "[20]\ttrain-accuracy:0.642101+0.00324892\ttrain-auc:0.851635+0.0134247\ttest-accuracy:0.630469+0.0329703\ttest-auc:0.514018+0.05572\n",
      "[21]\ttrain-accuracy:0.642014+0.00296139\ttrain-auc:0.852845+0.0144911\ttest-accuracy:0.630469+0.0329703\ttest-auc:0.512961+0.0539169\n",
      "[22]\ttrain-accuracy:0.641406+0.00311635\ttrain-auc:0.855974+0.0152727\ttest-accuracy:0.630469+0.0329703\ttest-auc:0.513735+0.0555847\n",
      "[23]\ttrain-accuracy:0.640365+0.00290618\ttrain-auc:0.858456+0.0158676\ttest-accuracy:0.629687+0.0316769\ttest-auc:0.510251+0.0541399\n",
      "[24]\ttrain-accuracy:0.640365+0.00349471\ttrain-auc:0.860984+0.014714\ttest-accuracy:0.632031+0.0326727\ttest-auc:0.508645+0.0501749\n",
      "[25]\ttrain-accuracy:0.63967+0.00330411\ttrain-auc:0.863787+0.0150219\ttest-accuracy:0.63125+0.031406\ttest-auc:0.507081+0.0491065\n",
      "[26]\ttrain-accuracy:0.639236+0.0034107\ttrain-auc:0.865213+0.0147159\ttest-accuracy:0.63125+0.031406\ttest-auc:0.50782+0.0475407\n",
      "[27]\ttrain-accuracy:0.638976+0.00346004\ttrain-auc:0.866458+0.0162736\ttest-accuracy:0.632031+0.0319167\ttest-auc:0.510819+0.0487697\n",
      "[28]\ttrain-accuracy:0.639149+0.00390214\ttrain-auc:0.868017+0.0170731\ttest-accuracy:0.63125+0.0306187\ttest-auc:0.512311+0.0504644\n"
     ]
    }
   ]
  },
  {
   "cell_type": "code",
   "execution_count": 43,
   "metadata": {},
   "outputs": [
    {
     "output_type": "display_data",
     "data": {
      "text/plain": "train-accuracy-mean    0.659809\ntrain-accuracy-std     0.007749\ntrain-auc-mean         0.741060\ntrain-auc-std          0.009860\ntest-accuracy-mean     0.627344\ntest-accuracy-std      0.030066\ntest-auc-mean          0.507790\ntest-auc-std           0.054201\nName: 16, dtype: float64"
     },
     "metadata": {}
    }
   ],
   "source": [
    "display(xgb_cv.iloc[-1])"
   ]
  },
  {
   "source": [
    "model = xgboost.train(params=params, dtrain=d_train, num_boost_round=num_round, early_stopping_rounds=15, evals=evallist, verbose_eval=1)\n",
    "\n",
    "y_pred = model.predict(d_test, ntree_limit=model.best_ntree_limit)\n",
    "#y_pred[y_pred<=0.5] = 0\n",
    "#y_pred[y_pred>0.5] = 1\n",
    "#f1 = f1_score(y_test, y_pred)\n",
    "#aa = accuracy_score(y_test, y_pred)\n",
    "#print(\"-----------\")\n",
    "#print(\"Final F1 score = {}\".format(f1))\n",
    "#print(\"Final accuracy = {}\".format(aa))"
   ],
   "cell_type": "code",
   "metadata": {},
   "execution_count": 205,
   "outputs": [
    {
     "output_type": "stream",
     "name": "stdout",
     "text": [
      "[0]\ttrain-auc:0.646092\ttest-auc:0.522604\n",
      "Multiple eval metrics have been passed: 'test-auc' will be used for early stopping.\n",
      "\n",
      "Will train until test-auc hasn't improved in 15 rounds.\n",
      "[1]\ttrain-auc:0.700213\ttest-auc:0.588349\n",
      "[2]\ttrain-auc:0.722979\ttest-auc:0.544433\n",
      "[3]\ttrain-auc:0.739129\ttest-auc:0.539783\n",
      "[4]\ttrain-auc:0.771378\ttest-auc:0.564583\n",
      "[5]\ttrain-auc:0.779592\ttest-auc:0.571945\n",
      "[6]\ttrain-auc:0.792507\ttest-auc:0.601137\n",
      "[7]\ttrain-auc:0.805294\ttest-auc:0.576854\n",
      "[8]\ttrain-auc:0.808728\ttest-auc:0.596745\n",
      "[9]\ttrain-auc:0.811176\ttest-auc:0.591191\n",
      "[10]\ttrain-auc:0.81632\ttest-auc:0.610437\n",
      "[11]\ttrain-auc:0.814941\ttest-auc:0.592612\n",
      "[12]\ttrain-auc:0.816613\ttest-auc:0.591708\n",
      "[13]\ttrain-auc:0.8215\ttest-auc:0.579824\n",
      "[14]\ttrain-auc:0.823314\ttest-auc:0.598166\n",
      "[15]\ttrain-auc:0.822376\ttest-auc:0.588091\n",
      "[16]\ttrain-auc:0.820208\ttest-auc:0.582408\n",
      "[17]\ttrain-auc:0.825463\ttest-auc:0.579953\n",
      "[18]\ttrain-auc:0.827057\ttest-auc:0.583828\n",
      "[19]\ttrain-auc:0.830275\ttest-auc:0.591062\n",
      "[20]\ttrain-auc:0.829982\ttest-auc:0.581762\n",
      "[21]\ttrain-auc:0.830037\ttest-auc:0.581245\n",
      "[22]\ttrain-auc:0.832002\ttest-auc:0.576854\n",
      "[23]\ttrain-auc:0.834465\ttest-auc:0.564195\n",
      "[24]\ttrain-auc:0.839555\ttest-auc:0.557479\n",
      "[25]\ttrain-auc:0.844534\ttest-auc:0.55567\n",
      "Stopping. Best iteration:\n",
      "[10]\ttrain-auc:0.81632\ttest-auc:0.610437\n",
      "\n"
     ]
    }
   ]
  },
  {
   "cell_type": "code",
   "execution_count": 206,
   "metadata": {},
   "outputs": [
    {
     "output_type": "display_data",
     "data": {
      "text/plain": "array([0.5021173 , 0.50203705, 0.5020481 , 0.50173676, 0.5004623 ,\n       0.5002152 , 0.5005008 , 0.5022989 , 0.49923918, 0.50091785,\n       0.50029683, 0.5022898 , 0.50191635, 0.50121313, 0.5013219 ,\n       0.5008583 , 0.50139207, 0.5011585 , 0.50193226, 0.5016739 ,\n       0.50144374, 0.50182647, 0.5009037 , 0.5010909 , 0.5014434 ,\n       0.50216484, 0.5018168 , 0.5019927 , 0.500431  , 0.50090134,\n       0.50133204, 0.501643  , 0.5017298 , 0.50220865, 0.50167024,\n       0.50193834, 0.5015104 , 0.5019116 , 0.5017222 , 0.5015655 ,\n       0.501385  , 0.5019355 , 0.50190115, 0.50175023, 0.5016032 ,\n       0.50227904, 0.50217   , 0.50143504, 0.50235295, 0.5008337 ,\n       0.50186694, 0.5021171 , 0.50219154, 0.50103194, 0.5019216 ,\n       0.5018757 , 0.5017222 , 0.5020079 , 0.5018129 , 0.5022775 ,\n       0.50179327, 0.5007682 , 0.5022409 , 0.50170904, 0.5020004 ,\n       0.5002436 , 0.50181943, 0.5014474 , 0.5017326 , 0.50095505,\n       0.50218165, 0.5018512 , 0.50225705, 0.5008935 , 0.5014457 ,\n       0.50156695, 0.5012929 , 0.50131965, 0.50051224, 0.5017915 ,\n       0.5019494 , 0.5020651 , 0.5013313 , 0.500621  , 0.5015757 ,\n       0.5011381 , 0.5014813 , 0.50089586, 0.5014201 , 0.5019241 ,\n       0.5014075 , 0.5013073 , 0.5019192 , 0.500672  , 0.5013876 ,\n       0.5018917 , 0.50019866, 0.5008607 , 0.5007821 , 0.50180894,\n       0.5017729 , 0.5013258 , 0.50202703, 0.50207615, 0.50248015,\n       0.5019813 , 0.5010788 , 0.50210994, 0.5022705 , 0.50186604,\n       0.50182885, 0.5018692 , 0.5018477 , 0.5017832 , 0.50181437,\n       0.50155586, 0.50143605, 0.50066835, 0.5017928 , 0.5021225 ,\n       0.5015003 , 0.5021458 , 0.50214016, 0.50142246, 0.5019116 ,\n       0.500649  , 0.50212246, 0.5014087 ], dtype=float32)"
     },
     "metadata": {}
    }
   ],
   "source": [
    "display(y_pred)"
   ]
  },
  {
   "source": [
    "# CatBoost"
   ],
   "cell_type": "markdown",
   "metadata": {}
  },
  {
   "cell_type": "code",
   "execution_count": 6,
   "metadata": {},
   "outputs": [],
   "source": [
    "import catboost"
   ]
  },
  {
   "cell_type": "code",
   "execution_count": 164,
   "metadata": {},
   "outputs": [],
   "source": [
    "cat_crossval = catboost.Pool(data=data, label=targets)"
   ]
  },
  {
   "cell_type": "code",
   "execution_count": 129,
   "metadata": {},
   "outputs": [],
   "source": [
    "cat_params = {\n",
    "    'loss_function':'Logloss',\n",
    "    'eval_metric':'Accuracy',\n",
    "    'learning_rate':0.001,\n",
    "    'depth':5,\n",
    "    'subsample': 0.8\n",
    "}"
   ]
  },
  {
   "cell_type": "code",
   "execution_count": 165,
   "metadata": {},
   "outputs": [
    {
     "output_type": "stream",
     "name": "stdout",
     "text": [
      "0:\tlearn: 0.6460067\ttest: 0.6234406\tbest: 0.6234406 (0)\ttotal: 435ms\tremaining: 36m 13s\n",
      "1:\tlearn: 0.6519104\ttest: 0.6319976\tbest: 0.6319976 (1)\ttotal: 831ms\tremaining: 34m 37s\n",
      "2:\tlearn: 0.6512173\ttest: 0.6367220\tbest: 0.6367220 (2)\ttotal: 1.23s\tremaining: 34m 11s\n",
      "3:\tlearn: 0.6488738\ttest: 0.6359530\tbest: 0.6367220 (2)\ttotal: 1.69s\tremaining: 35m 16s\n",
      "4:\tlearn: 0.6450539\ttest: 0.6359530\tbest: 0.6367220 (2)\ttotal: 2.17s\tremaining: 36m 11s\n",
      "5:\tlearn: 0.6443593\ttest: 0.6367342\tbest: 0.6367342 (5)\ttotal: 2.65s\tremaining: 36m 42s\n",
      "6:\tlearn: 0.6438381\ttest: 0.6367342\tbest: 0.6367342 (5)\ttotal: 3.03s\tremaining: 36m 3s\n",
      "7:\tlearn: 0.6426222\ttest: 0.6382785\tbest: 0.6382785 (7)\ttotal: 3.4s\tremaining: 35m 20s\n",
      "8:\tlearn: 0.6426223\ttest: 0.6390598\tbest: 0.6390598 (8)\ttotal: 3.77s\tremaining: 34m 53s\n",
      "9:\tlearn: 0.6418408\ttest: 0.6382906\tbest: 0.6390598 (8)\ttotal: 4.16s\tremaining: 34m 34s\n",
      "10:\tlearn: 0.6413199\ttest: 0.6390658\tbest: 0.6390658 (10)\ttotal: 4.56s\tremaining: 34m 27s\n",
      "11:\tlearn: 0.6405386\ttest: 0.6390658\tbest: 0.6390658 (10)\ttotal: 4.95s\tremaining: 34m 17s\n",
      "12:\tlearn: 0.6403649\ttest: 0.6390658\tbest: 0.6390658 (10)\ttotal: 5.34s\tremaining: 34m 10s\n",
      "13:\tlearn: 0.6401043\ttest: 0.6390658\tbest: 0.6390658 (10)\ttotal: 5.73s\tremaining: 34m\n",
      "14:\tlearn: 0.6398439\ttest: 0.6390658\tbest: 0.6390658 (10)\ttotal: 6.13s\tremaining: 33m 57s\n",
      "15:\tlearn: 0.6405382\ttest: 0.6390658\tbest: 0.6390658 (10)\ttotal: 6.55s\tremaining: 34m\n",
      "16:\tlearn: 0.6400174\ttest: 0.6390658\tbest: 0.6390658 (10)\ttotal: 6.95s\tremaining: 33m 58s\n",
      "17:\tlearn: 0.6397569\ttest: 0.6390658\tbest: 0.6390658 (10)\ttotal: 7.32s\tremaining: 33m 46s\n",
      "18:\tlearn: 0.6397570\ttest: 0.6390658\tbest: 0.6390658 (10)\ttotal: 7.68s\tremaining: 33m 34s\n",
      "19:\tlearn: 0.6401042\ttest: 0.6390658\tbest: 0.6390658 (10)\ttotal: 8.09s\tremaining: 33m 35s\n",
      "20:\tlearn: 0.6400173\ttest: 0.6390658\tbest: 0.6390658 (10)\ttotal: 8.49s\tremaining: 33m 33s\n",
      "21:\tlearn: 0.6395833\ttest: 0.6390658\tbest: 0.6390658 (10)\ttotal: 8.89s\tremaining: 33m 32s\n",
      "22:\tlearn: 0.6395833\ttest: 0.6390658\tbest: 0.6390658 (10)\ttotal: 9.3s\tremaining: 33m 33s\n",
      "23:\tlearn: 0.6395833\ttest: 0.6390658\tbest: 0.6390658 (10)\ttotal: 9.7s\tremaining: 33m 30s\n",
      "24:\tlearn: 0.6394096\ttest: 0.6390658\tbest: 0.6390658 (10)\ttotal: 10.1s\tremaining: 33m 34s\n",
      "Stopped by overfitting detector  (15 iterations wait)\n",
      "25:\tlearn: 0.6393229\ttest: 0.6390658\tbest: 0.6390658 (10)\ttotal: 10.5s\tremaining: 33m 33s\n"
     ]
    }
   ],
   "source": [
    "cat_cv = catboost.cv(pool=cat_crossval,\n",
    "                    params=cat_params,\n",
    "                    num_boost_round=5000,\n",
    "                    nfold=10,\n",
    "                    verbose_eval=1,\n",
    "                    early_stopping_rounds=15\n",
    "                    )"
   ]
  },
  {
   "cell_type": "code",
   "execution_count": 64,
   "metadata": {},
   "outputs": [],
   "source": [
    "from catboost import CatBoostClassifier"
   ]
  },
  {
   "cell_type": "code",
   "execution_count": 170,
   "metadata": {},
   "outputs": [],
   "source": [
    "model = CatBoostClassifier( loss_function='Logloss',\n",
    "                            learning_rate=0.001,\n",
    "                            depth=5,\n",
    "                            subsample=0.5,\n",
    "                            num_boost_round=10,\n",
    "                            #early_stopping_rounds=15,\n",
    "                            verbose=True)"
   ]
  },
  {
   "cell_type": "code",
   "execution_count": 171,
   "metadata": {
    "tags": []
   },
   "outputs": [
    {
     "output_type": "stream",
     "name": "stdout",
     "text": [
      "0:\tlearn: 0.6930366\ttotal: 14ms\tremaining: 126ms\n1:\tlearn: 0.6929235\ttotal: 28ms\tremaining: 112ms\n2:\tlearn: 0.6927796\ttotal: 40.5ms\tremaining: 94.5ms\n3:\tlearn: 0.6926530\ttotal: 49ms\tremaining: 73.6ms\n4:\tlearn: 0.6925523\ttotal: 60.5ms\tremaining: 60.5ms\n5:\tlearn: 0.6924413\ttotal: 70.2ms\tremaining: 46.8ms\n6:\tlearn: 0.6923345\ttotal: 79.4ms\tremaining: 34ms\n7:\tlearn: 0.6922518\ttotal: 88.8ms\tremaining: 22.2ms\n8:\tlearn: 0.6921485\ttotal: 97.3ms\tremaining: 10.8ms\n9:\tlearn: 0.6920496\ttotal: 108ms\tremaining: 0us\n"
     ]
    },
    {
     "output_type": "execute_result",
     "data": {
      "text/plain": [
       "<catboost.core.CatBoostClassifier at 0x23993474288>"
      ]
     },
     "metadata": {},
     "execution_count": 171
    }
   ],
   "source": [
    "model.fit(x_train, y_train)"
   ]
  },
  {
   "cell_type": "code",
   "execution_count": 172,
   "metadata": {},
   "outputs": [],
   "source": [
    "y_pred = model.predict(x_test)"
   ]
  },
  {
   "cell_type": "code",
   "execution_count": 173,
   "metadata": {},
   "outputs": [
    {
     "output_type": "stream",
     "name": "stdout",
     "text": [
      "-----------\nFinal Accuracy = 0.695\nFinal F1 score = 0.820\n"
     ]
    }
   ],
   "source": [
    "print(\"-----------\")\n",
    "print(\"Final Accuracy = {:.3f}\".format(accuracy_score(y_test, y_pred)))\n",
    "print(\"Final F1 score = {:.3f}\".format(f1_score(y_test, y_pred)))"
   ]
  },
  {
   "cell_type": "code",
   "execution_count": null,
   "metadata": {},
   "outputs": [],
   "source": []
  }
 ]
}